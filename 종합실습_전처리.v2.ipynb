{
 "cells": [
  {
   "cell_type": "code",
   "execution_count": 3,
   "id": "59edd684",
   "metadata": {},
   "outputs": [],
   "source": [
    "import pandas as pd\n",
    "import numpy as np\n",
    "import matplotlib.pyplot as plt\n",
    "import seaborn as sns\n",
    "from datetime import datetime\n",
    "import statsmodels.api as sm\n",
    "from statsmodels.graphics.tsaplots import plot_acf, plot_pacf\n",
    "from statsmodels.tsa.arima.model import ARIMA\n",
    "from pmdarima import auto_arima\n",
    "from sklearn.preprocessing import StandardScaler\n",
    "from sklearn.decomposition import PCA\n",
    "from sklearn.tree import export_graphviz\n",
    "import graphviz\n",
    "from sklearn.model_selection import train_test_split, GridSearchCV\n",
    "from sklearn.tree import DecisionTreeRegressor\n",
    "from sklearn.ensemble import RandomForestRegressor, GradientBoostingRegressor\n",
    "from sklearn.metrics import mean_squared_error, mean_absolute_error, mean_absolute_percentage_error\n",
    "from scipy.stats import ttest_ind, f_oneway, chi2_contingency\n",
    "from sklearn.linear_model import LinearRegression\n",
    "from sklearn.preprocessing import LabelEncoder\n",
    "import matplotlib.font_manager as fm\n",
    "import matplotlib as mpl\n",
    "import statsmodels.formula.api as smf\n",
    "import warnings\n",
    "warnings.filterwarnings('ignore')"
   ]
  },
  {
   "cell_type": "code",
   "execution_count": 7,
   "id": "33340657",
   "metadata": {},
   "outputs": [
    {
     "name": "stdout",
     "output_type": "stream",
     "text": [
      "E: 잠금 파일 /var/lib/apt/lists/lock 파일을 열 수 없습니다 - open (13: 허가 거부)\n",
      "E: /var/lib/apt/lists/ 디렉터리를 잠글 수 없습니다\n",
      "W: /var/cache/apt/pkgcache.bin 파일을 삭제하는데 문제가 있습니다 - RemoveCaches (13: 허가 거부)\n",
      "W: /var/cache/apt/srcpkgcache.bin 파일을 삭제하는데 문제가 있습니다 - RemoveCaches (13: 허가 거부)\n",
      "E: 잠금 파일 /var/lib/dpkg/lock-frontend 파일을 열 수 없습니다 - open (13: 허가 거부)\n",
      "E: Unable to acquire the dpkg frontend lock (/var/lib/dpkg/lock-frontend), are you root?\n"
     ]
    }
   ],
   "source": [
    "# 나눔 폰트 실행 \n",
    "\n",
    "!apt-get update -qq\n",
    "!apt-get install fonts-nanum* -qq\n",
    "!rm ~/.cache/matplotlib -rf\n",
    "\n",
    "path = '/usr/share/fonts/truetype/nanum/NanumGothic.ttf' # 나눔 고딕\n",
    "font_name = fm.FontProperties(fname=path, size=20).get_name() # 기본 폰트 사이즈 : 20\n",
    "plt.rc('font', family=font_name)\n",
    "mpl.rcParams['axes.unicode_minus'] = False\n",
    "%matplotlib inline"
   ]
  },
  {
   "cell_type": "markdown",
   "id": "18cfa406",
   "metadata": {},
   "source": [
    "## 데이터 불러오기"
   ]
  },
  {
   "cell_type": "code",
   "execution_count": 58,
   "id": "e7372cc9",
   "metadata": {},
   "outputs": [
    {
     "data": {
      "text/html": [
       "<div>\n",
       "<style scoped>\n",
       "    .dataframe tbody tr th:only-of-type {\n",
       "        vertical-align: middle;\n",
       "    }\n",
       "\n",
       "    .dataframe tbody tr th {\n",
       "        vertical-align: top;\n",
       "    }\n",
       "\n",
       "    .dataframe thead th {\n",
       "        text-align: right;\n",
       "    }\n",
       "</style>\n",
       "<table border=\"1\" class=\"dataframe\">\n",
       "  <thead>\n",
       "    <tr style=\"text-align: right;\">\n",
       "      <th></th>\n",
       "      <th>Name</th>\n",
       "      <th>Location</th>\n",
       "      <th>Price</th>\n",
       "      <th>Year</th>\n",
       "      <th>Kilometers_Driven</th>\n",
       "      <th>Fuel_Type</th>\n",
       "      <th>Transmission</th>\n",
       "      <th>Owner_Type</th>\n",
       "      <th>Mileage</th>\n",
       "      <th>Engine</th>\n",
       "      <th>Power</th>\n",
       "      <th>Seats</th>\n",
       "      <th>New_Price</th>\n",
       "    </tr>\n",
       "  </thead>\n",
       "  <tbody>\n",
       "    <tr>\n",
       "      <th>0</th>\n",
       "      <td>Maruti Wagon R LXI CNG</td>\n",
       "      <td>Mumbai</td>\n",
       "      <td>2682.68</td>\n",
       "      <td>2010</td>\n",
       "      <td>72000</td>\n",
       "      <td>CNG</td>\n",
       "      <td>Manual</td>\n",
       "      <td>First</td>\n",
       "      <td>26.6 kmpl</td>\n",
       "      <td>998 CC</td>\n",
       "      <td>58.16 bhp</td>\n",
       "      <td>5.0</td>\n",
       "      <td>NaN</td>\n",
       "    </tr>\n",
       "    <tr>\n",
       "      <th>1</th>\n",
       "      <td>Hyundai Creta 1.6 CRDi SX Option</td>\n",
       "      <td>Pune</td>\n",
       "      <td>19162.00</td>\n",
       "      <td>2015</td>\n",
       "      <td>41000</td>\n",
       "      <td>Diesel</td>\n",
       "      <td>Manual</td>\n",
       "      <td>First</td>\n",
       "      <td>19.67 kmpl</td>\n",
       "      <td>1582 CC</td>\n",
       "      <td>126.2 bhp</td>\n",
       "      <td>5.0</td>\n",
       "      <td>NaN</td>\n",
       "    </tr>\n",
       "    <tr>\n",
       "      <th>2</th>\n",
       "      <td>Honda Jazz V</td>\n",
       "      <td>Chennai</td>\n",
       "      <td>6898.32</td>\n",
       "      <td>2011</td>\n",
       "      <td>46000</td>\n",
       "      <td>Petrol</td>\n",
       "      <td>Manual</td>\n",
       "      <td>First</td>\n",
       "      <td>18.2 kmpl</td>\n",
       "      <td>1199 CC</td>\n",
       "      <td>88.7 bhp</td>\n",
       "      <td>5.0</td>\n",
       "      <td>8.61 Lakh</td>\n",
       "    </tr>\n",
       "    <tr>\n",
       "      <th>3</th>\n",
       "      <td>Maruti Ertiga VDI</td>\n",
       "      <td>Chennai</td>\n",
       "      <td>9197.76</td>\n",
       "      <td>2012</td>\n",
       "      <td>87000</td>\n",
       "      <td>Diesel</td>\n",
       "      <td>Manual</td>\n",
       "      <td>First</td>\n",
       "      <td>20.77 kmpl</td>\n",
       "      <td>1248 CC</td>\n",
       "      <td>88.76 bhp</td>\n",
       "      <td>7.0</td>\n",
       "      <td>NaN</td>\n",
       "    </tr>\n",
       "    <tr>\n",
       "      <th>4</th>\n",
       "      <td>Audi A4 New 2.0 TDI Multitronic</td>\n",
       "      <td>Coimbatore</td>\n",
       "      <td>27194.71</td>\n",
       "      <td>2013</td>\n",
       "      <td>40670</td>\n",
       "      <td>Diesel</td>\n",
       "      <td>Automatic</td>\n",
       "      <td>Second</td>\n",
       "      <td>15.2 kmpl</td>\n",
       "      <td>1968 CC</td>\n",
       "      <td>140.8 bhp</td>\n",
       "      <td>5.0</td>\n",
       "      <td>NaN</td>\n",
       "    </tr>\n",
       "  </tbody>\n",
       "</table>\n",
       "</div>"
      ],
      "text/plain": [
       "                               Name    Location     Price  Year  \\\n",
       "0            Maruti Wagon R LXI CNG      Mumbai   2682.68  2010   \n",
       "1  Hyundai Creta 1.6 CRDi SX Option        Pune  19162.00  2015   \n",
       "2                      Honda Jazz V     Chennai   6898.32  2011   \n",
       "3                 Maruti Ertiga VDI     Chennai   9197.76  2012   \n",
       "4   Audi A4 New 2.0 TDI Multitronic  Coimbatore  27194.71  2013   \n",
       "\n",
       "   Kilometers_Driven Fuel_Type Transmission Owner_Type     Mileage   Engine  \\\n",
       "0              72000       CNG       Manual      First   26.6 kmpl   998 CC   \n",
       "1              41000    Diesel       Manual      First  19.67 kmpl  1582 CC   \n",
       "2              46000    Petrol       Manual      First   18.2 kmpl  1199 CC   \n",
       "3              87000    Diesel       Manual      First  20.77 kmpl  1248 CC   \n",
       "4              40670    Diesel    Automatic     Second   15.2 kmpl  1968 CC   \n",
       "\n",
       "       Power  Seats  New_Price  \n",
       "0  58.16 bhp    5.0        NaN  \n",
       "1  126.2 bhp    5.0        NaN  \n",
       "2   88.7 bhp    5.0  8.61 Lakh  \n",
       "3  88.76 bhp    7.0        NaN  \n",
       "4  140.8 bhp    5.0        NaN  "
      ]
     },
     "execution_count": 58,
     "metadata": {},
     "output_type": "execute_result"
    }
   ],
   "source": [
    "df = pd.read_csv(\"/home/piai/train/01 실습파일/2. Big Data 분석/Car.csv\")\n",
    "df.head()"
   ]
  },
  {
   "cell_type": "code",
   "execution_count": 59,
   "id": "cbe59d03",
   "metadata": {},
   "outputs": [
    {
     "name": "stdout",
     "output_type": "stream",
     "text": [
      "<class 'pandas.core.frame.DataFrame'>\n",
      "RangeIndex: 7253 entries, 0 to 7252\n",
      "Data columns (total 13 columns):\n",
      " #   Column             Non-Null Count  Dtype  \n",
      "---  ------             --------------  -----  \n",
      " 0   Name               7253 non-null   object \n",
      " 1   Location           7253 non-null   object \n",
      " 2   Price              6200 non-null   float64\n",
      " 3   Year               7253 non-null   int64  \n",
      " 4   Kilometers_Driven  7253 non-null   int64  \n",
      " 5   Fuel_Type          7253 non-null   object \n",
      " 6   Transmission       7253 non-null   object \n",
      " 7   Owner_Type         7253 non-null   object \n",
      " 8   Mileage            7251 non-null   object \n",
      " 9   Engine             7207 non-null   object \n",
      " 10  Power              7207 non-null   object \n",
      " 11  Seats              7200 non-null   float64\n",
      " 12  New_Price          1006 non-null   object \n",
      "dtypes: float64(2), int64(2), object(9)\n",
      "memory usage: 736.8+ KB\n"
     ]
    }
   ],
   "source": [
    "# 데이터 정보 확인 : info() 함수\n",
    "\n",
    "df.info()"
   ]
  },
  {
   "cell_type": "code",
   "execution_count": 60,
   "id": "80d4d7f9",
   "metadata": {},
   "outputs": [
    {
     "data": {
      "text/plain": [
       "Name                    0\n",
       "Location                0\n",
       "Price                1053\n",
       "Year                    0\n",
       "Kilometers_Driven       0\n",
       "Fuel_Type               0\n",
       "Transmission            0\n",
       "Owner_Type              0\n",
       "Mileage                 2\n",
       "Engine                 46\n",
       "Power                  46\n",
       "Seats                  53\n",
       "New_Price            6247\n",
       "dtype: int64"
      ]
     },
     "execution_count": 60,
     "metadata": {},
     "output_type": "execute_result"
    }
   ],
   "source": [
    "# 결측치(True) 현황 요약 : sum() 함수\n",
    "\n",
    "df.isnull().sum()"
   ]
  },
  {
   "cell_type": "code",
   "execution_count": 61,
   "id": "27dc860b",
   "metadata": {},
   "outputs": [
    {
     "data": {
      "text/plain": [
       "(7253, 11)"
      ]
     },
     "execution_count": 61,
     "metadata": {},
     "output_type": "execute_result"
    }
   ],
   "source": [
    "# Owner_type, New_Price 열 제거\n",
    "\n",
    "df.drop(columns=['Owner_Type','New_Price'], inplace=True)\n",
    "df.shape"
   ]
  },
  {
   "cell_type": "code",
   "execution_count": 62,
   "id": "c64779e3",
   "metadata": {},
   "outputs": [
    {
     "data": {
      "text/html": [
       "<div>\n",
       "<style scoped>\n",
       "    .dataframe tbody tr th:only-of-type {\n",
       "        vertical-align: middle;\n",
       "    }\n",
       "\n",
       "    .dataframe tbody tr th {\n",
       "        vertical-align: top;\n",
       "    }\n",
       "\n",
       "    .dataframe thead th {\n",
       "        text-align: right;\n",
       "    }\n",
       "</style>\n",
       "<table border=\"1\" class=\"dataframe\">\n",
       "  <thead>\n",
       "    <tr style=\"text-align: right;\">\n",
       "      <th></th>\n",
       "      <th>Name</th>\n",
       "      <th>Location</th>\n",
       "      <th>Price</th>\n",
       "      <th>Year</th>\n",
       "      <th>Kilometers_Driven</th>\n",
       "      <th>Fuel_Type</th>\n",
       "      <th>Transmission</th>\n",
       "      <th>Mileage</th>\n",
       "      <th>Engine</th>\n",
       "      <th>Power</th>\n",
       "      <th>Seats</th>\n",
       "    </tr>\n",
       "  </thead>\n",
       "  <tbody>\n",
       "    <tr>\n",
       "      <th>0</th>\n",
       "      <td>Maruti Wagon R LXI CNG</td>\n",
       "      <td>Mumbai</td>\n",
       "      <td>2682.68</td>\n",
       "      <td>2010</td>\n",
       "      <td>72000</td>\n",
       "      <td>CNG</td>\n",
       "      <td>Manual</td>\n",
       "      <td>26.6 kmpl</td>\n",
       "      <td>998 CC</td>\n",
       "      <td>58.16 bhp</td>\n",
       "      <td>5.0</td>\n",
       "    </tr>\n",
       "    <tr>\n",
       "      <th>1</th>\n",
       "      <td>Hyundai Creta 1.6 CRDi SX Option</td>\n",
       "      <td>Pune</td>\n",
       "      <td>19162.00</td>\n",
       "      <td>2015</td>\n",
       "      <td>41000</td>\n",
       "      <td>Diesel</td>\n",
       "      <td>Manual</td>\n",
       "      <td>19.67 kmpl</td>\n",
       "      <td>1582 CC</td>\n",
       "      <td>126.2 bhp</td>\n",
       "      <td>5.0</td>\n",
       "    </tr>\n",
       "    <tr>\n",
       "      <th>2</th>\n",
       "      <td>Honda Jazz V</td>\n",
       "      <td>Chennai</td>\n",
       "      <td>6898.32</td>\n",
       "      <td>2011</td>\n",
       "      <td>46000</td>\n",
       "      <td>Petrol</td>\n",
       "      <td>Manual</td>\n",
       "      <td>18.2 kmpl</td>\n",
       "      <td>1199 CC</td>\n",
       "      <td>88.7 bhp</td>\n",
       "      <td>5.0</td>\n",
       "    </tr>\n",
       "    <tr>\n",
       "      <th>3</th>\n",
       "      <td>Maruti Ertiga VDI</td>\n",
       "      <td>Chennai</td>\n",
       "      <td>9197.76</td>\n",
       "      <td>2012</td>\n",
       "      <td>87000</td>\n",
       "      <td>Diesel</td>\n",
       "      <td>Manual</td>\n",
       "      <td>20.77 kmpl</td>\n",
       "      <td>1248 CC</td>\n",
       "      <td>88.76 bhp</td>\n",
       "      <td>7.0</td>\n",
       "    </tr>\n",
       "    <tr>\n",
       "      <th>4</th>\n",
       "      <td>Audi A4 New 2.0 TDI Multitronic</td>\n",
       "      <td>Coimbatore</td>\n",
       "      <td>27194.71</td>\n",
       "      <td>2013</td>\n",
       "      <td>40670</td>\n",
       "      <td>Diesel</td>\n",
       "      <td>Automatic</td>\n",
       "      <td>15.2 kmpl</td>\n",
       "      <td>1968 CC</td>\n",
       "      <td>140.8 bhp</td>\n",
       "      <td>5.0</td>\n",
       "    </tr>\n",
       "    <tr>\n",
       "      <th>...</th>\n",
       "      <td>...</td>\n",
       "      <td>...</td>\n",
       "      <td>...</td>\n",
       "      <td>...</td>\n",
       "      <td>...</td>\n",
       "      <td>...</td>\n",
       "      <td>...</td>\n",
       "      <td>...</td>\n",
       "      <td>...</td>\n",
       "      <td>...</td>\n",
       "      <td>...</td>\n",
       "    </tr>\n",
       "    <tr>\n",
       "      <th>7246</th>\n",
       "      <td>Volkswagen Vento Diesel Trendline</td>\n",
       "      <td>Hyderabad</td>\n",
       "      <td>NaN</td>\n",
       "      <td>2011</td>\n",
       "      <td>89411</td>\n",
       "      <td>Diesel</td>\n",
       "      <td>Manual</td>\n",
       "      <td>20.54 kmpl</td>\n",
       "      <td>1598 CC</td>\n",
       "      <td>103.6 bhp</td>\n",
       "      <td>5.0</td>\n",
       "    </tr>\n",
       "    <tr>\n",
       "      <th>7247</th>\n",
       "      <td>Volkswagen Polo GT TSI</td>\n",
       "      <td>Mumbai</td>\n",
       "      <td>NaN</td>\n",
       "      <td>2015</td>\n",
       "      <td>59000</td>\n",
       "      <td>Petrol</td>\n",
       "      <td>Automatic</td>\n",
       "      <td>17.21 kmpl</td>\n",
       "      <td>1197 CC</td>\n",
       "      <td>103.6 bhp</td>\n",
       "      <td>5.0</td>\n",
       "    </tr>\n",
       "    <tr>\n",
       "      <th>7248</th>\n",
       "      <td>Nissan Micra Diesel XV</td>\n",
       "      <td>Kolkata</td>\n",
       "      <td>NaN</td>\n",
       "      <td>2012</td>\n",
       "      <td>28000</td>\n",
       "      <td>Diesel</td>\n",
       "      <td>Manual</td>\n",
       "      <td>23.08 kmpl</td>\n",
       "      <td>1461 CC</td>\n",
       "      <td>63.1 bhp</td>\n",
       "      <td>5.0</td>\n",
       "    </tr>\n",
       "    <tr>\n",
       "      <th>7249</th>\n",
       "      <td>Volkswagen Polo GT TSI</td>\n",
       "      <td>Pune</td>\n",
       "      <td>NaN</td>\n",
       "      <td>2013</td>\n",
       "      <td>52262</td>\n",
       "      <td>Petrol</td>\n",
       "      <td>Automatic</td>\n",
       "      <td>17.2 kmpl</td>\n",
       "      <td>1197 CC</td>\n",
       "      <td>103.6 bhp</td>\n",
       "      <td>5.0</td>\n",
       "    </tr>\n",
       "    <tr>\n",
       "      <th>7250</th>\n",
       "      <td>Mercedes-Benz E-Class 2009-2013 E 220 CDI Avan...</td>\n",
       "      <td>Kochi</td>\n",
       "      <td>NaN</td>\n",
       "      <td>2014</td>\n",
       "      <td>72443</td>\n",
       "      <td>Diesel</td>\n",
       "      <td>Automatic</td>\n",
       "      <td>10.0 kmpl</td>\n",
       "      <td>2148 CC</td>\n",
       "      <td>170 bhp</td>\n",
       "      <td>5.0</td>\n",
       "    </tr>\n",
       "  </tbody>\n",
       "</table>\n",
       "<p>7251 rows × 11 columns</p>\n",
       "</div>"
      ],
      "text/plain": [
       "                                                   Name    Location     Price  \\\n",
       "0                                Maruti Wagon R LXI CNG      Mumbai   2682.68   \n",
       "1                      Hyundai Creta 1.6 CRDi SX Option        Pune  19162.00   \n",
       "2                                          Honda Jazz V     Chennai   6898.32   \n",
       "3                                     Maruti Ertiga VDI     Chennai   9197.76   \n",
       "4                       Audi A4 New 2.0 TDI Multitronic  Coimbatore  27194.71   \n",
       "...                                                 ...         ...       ...   \n",
       "7246                  Volkswagen Vento Diesel Trendline   Hyderabad       NaN   \n",
       "7247                             Volkswagen Polo GT TSI      Mumbai       NaN   \n",
       "7248                             Nissan Micra Diesel XV     Kolkata       NaN   \n",
       "7249                             Volkswagen Polo GT TSI        Pune       NaN   \n",
       "7250  Mercedes-Benz E-Class 2009-2013 E 220 CDI Avan...       Kochi       NaN   \n",
       "\n",
       "      Year  Kilometers_Driven Fuel_Type Transmission     Mileage   Engine  \\\n",
       "0     2010              72000       CNG       Manual   26.6 kmpl   998 CC   \n",
       "1     2015              41000    Diesel       Manual  19.67 kmpl  1582 CC   \n",
       "2     2011              46000    Petrol       Manual   18.2 kmpl  1199 CC   \n",
       "3     2012              87000    Diesel       Manual  20.77 kmpl  1248 CC   \n",
       "4     2013              40670    Diesel    Automatic   15.2 kmpl  1968 CC   \n",
       "...    ...                ...       ...          ...         ...      ...   \n",
       "7246  2011              89411    Diesel       Manual  20.54 kmpl  1598 CC   \n",
       "7247  2015              59000    Petrol    Automatic  17.21 kmpl  1197 CC   \n",
       "7248  2012              28000    Diesel       Manual  23.08 kmpl  1461 CC   \n",
       "7249  2013              52262    Petrol    Automatic   17.2 kmpl  1197 CC   \n",
       "7250  2014              72443    Diesel    Automatic   10.0 kmpl  2148 CC   \n",
       "\n",
       "          Power  Seats  \n",
       "0     58.16 bhp    5.0  \n",
       "1     126.2 bhp    5.0  \n",
       "2      88.7 bhp    5.0  \n",
       "3     88.76 bhp    7.0  \n",
       "4     140.8 bhp    5.0  \n",
       "...         ...    ...  \n",
       "7246  103.6 bhp    5.0  \n",
       "7247  103.6 bhp    5.0  \n",
       "7248   63.1 bhp    5.0  \n",
       "7249  103.6 bhp    5.0  \n",
       "7250    170 bhp    5.0  \n",
       "\n",
       "[7251 rows x 11 columns]"
      ]
     },
     "execution_count": 62,
     "metadata": {},
     "output_type": "execute_result"
    }
   ],
   "source": [
    "#중복 데이터 제거\n",
    "\n",
    "df.drop_duplicates(ignore_index=True)"
   ]
  },
  {
   "cell_type": "markdown",
   "id": "abf98866",
   "metadata": {},
   "source": [
    "> 데이터 전처리"
   ]
  },
  {
   "cell_type": "markdown",
   "id": "28d18d1c",
   "metadata": {},
   "source": [
    "* Price 가격 전처리"
   ]
  },
  {
   "cell_type": "code",
   "execution_count": 63,
   "id": "e67e742b",
   "metadata": {},
   "outputs": [],
   "source": [
    "df['Price'] = df.groupby('Name')['Price'].transform(lambda x: x.fillna(x.mean()))"
   ]
  },
  {
   "cell_type": "code",
   "execution_count": 64,
   "id": "60b6c182",
   "metadata": {},
   "outputs": [
    {
     "data": {
      "text/plain": [
       "Name                   0\n",
       "Location               0\n",
       "Price                126\n",
       "Year                   0\n",
       "Kilometers_Driven      0\n",
       "Fuel_Type              0\n",
       "Transmission           0\n",
       "Mileage                2\n",
       "Engine                46\n",
       "Power                 46\n",
       "Seats                 53\n",
       "dtype: int64"
      ]
     },
     "execution_count": 64,
     "metadata": {},
     "output_type": "execute_result"
    }
   ],
   "source": [
    "df.isnull().sum()"
   ]
  },
  {
   "cell_type": "markdown",
   "id": "4434a707",
   "metadata": {},
   "source": [
    "-> 나머지 126개는 mean값으로 채워지지 못했으므로 삭제함"
   ]
  },
  {
   "cell_type": "code",
   "execution_count": 65,
   "id": "a25dcf8b",
   "metadata": {},
   "outputs": [
    {
     "data": {
      "text/html": [
       "<div>\n",
       "<style scoped>\n",
       "    .dataframe tbody tr th:only-of-type {\n",
       "        vertical-align: middle;\n",
       "    }\n",
       "\n",
       "    .dataframe tbody tr th {\n",
       "        vertical-align: top;\n",
       "    }\n",
       "\n",
       "    .dataframe thead th {\n",
       "        text-align: right;\n",
       "    }\n",
       "</style>\n",
       "<table border=\"1\" class=\"dataframe\">\n",
       "  <thead>\n",
       "    <tr style=\"text-align: right;\">\n",
       "      <th></th>\n",
       "      <th>Name</th>\n",
       "      <th>Location</th>\n",
       "      <th>Price</th>\n",
       "      <th>Year</th>\n",
       "      <th>Kilometers_Driven</th>\n",
       "      <th>Fuel_Type</th>\n",
       "      <th>Transmission</th>\n",
       "      <th>Mileage</th>\n",
       "      <th>Engine</th>\n",
       "      <th>Power</th>\n",
       "      <th>Seats</th>\n",
       "    </tr>\n",
       "  </thead>\n",
       "  <tbody>\n",
       "    <tr>\n",
       "      <th>0</th>\n",
       "      <td>Maruti Wagon R LXI CNG</td>\n",
       "      <td>Mumbai</td>\n",
       "      <td>2682.68</td>\n",
       "      <td>2010</td>\n",
       "      <td>72000</td>\n",
       "      <td>CNG</td>\n",
       "      <td>Manual</td>\n",
       "      <td>26.6 kmpl</td>\n",
       "      <td>998 CC</td>\n",
       "      <td>58.16 bhp</td>\n",
       "      <td>5.0</td>\n",
       "    </tr>\n",
       "    <tr>\n",
       "      <th>1</th>\n",
       "      <td>Hyundai Creta 1.6 CRDi SX Option</td>\n",
       "      <td>Pune</td>\n",
       "      <td>19162.00</td>\n",
       "      <td>2015</td>\n",
       "      <td>41000</td>\n",
       "      <td>Diesel</td>\n",
       "      <td>Manual</td>\n",
       "      <td>19.67 kmpl</td>\n",
       "      <td>1582 CC</td>\n",
       "      <td>126.2 bhp</td>\n",
       "      <td>5.0</td>\n",
       "    </tr>\n",
       "    <tr>\n",
       "      <th>2</th>\n",
       "      <td>Honda Jazz V</td>\n",
       "      <td>Chennai</td>\n",
       "      <td>6898.32</td>\n",
       "      <td>2011</td>\n",
       "      <td>46000</td>\n",
       "      <td>Petrol</td>\n",
       "      <td>Manual</td>\n",
       "      <td>18.2 kmpl</td>\n",
       "      <td>1199 CC</td>\n",
       "      <td>88.7 bhp</td>\n",
       "      <td>5.0</td>\n",
       "    </tr>\n",
       "    <tr>\n",
       "      <th>3</th>\n",
       "      <td>Maruti Ertiga VDI</td>\n",
       "      <td>Chennai</td>\n",
       "      <td>9197.76</td>\n",
       "      <td>2012</td>\n",
       "      <td>87000</td>\n",
       "      <td>Diesel</td>\n",
       "      <td>Manual</td>\n",
       "      <td>20.77 kmpl</td>\n",
       "      <td>1248 CC</td>\n",
       "      <td>88.76 bhp</td>\n",
       "      <td>7.0</td>\n",
       "    </tr>\n",
       "    <tr>\n",
       "      <th>4</th>\n",
       "      <td>Audi A4 New 2.0 TDI Multitronic</td>\n",
       "      <td>Coimbatore</td>\n",
       "      <td>27194.71</td>\n",
       "      <td>2013</td>\n",
       "      <td>40670</td>\n",
       "      <td>Diesel</td>\n",
       "      <td>Automatic</td>\n",
       "      <td>15.2 kmpl</td>\n",
       "      <td>1968 CC</td>\n",
       "      <td>140.8 bhp</td>\n",
       "      <td>5.0</td>\n",
       "    </tr>\n",
       "  </tbody>\n",
       "</table>\n",
       "</div>"
      ],
      "text/plain": [
       "                               Name    Location     Price  Year  \\\n",
       "0            Maruti Wagon R LXI CNG      Mumbai   2682.68  2010   \n",
       "1  Hyundai Creta 1.6 CRDi SX Option        Pune  19162.00  2015   \n",
       "2                      Honda Jazz V     Chennai   6898.32  2011   \n",
       "3                 Maruti Ertiga VDI     Chennai   9197.76  2012   \n",
       "4   Audi A4 New 2.0 TDI Multitronic  Coimbatore  27194.71  2013   \n",
       "\n",
       "   Kilometers_Driven Fuel_Type Transmission     Mileage   Engine      Power  \\\n",
       "0              72000       CNG       Manual   26.6 kmpl   998 CC  58.16 bhp   \n",
       "1              41000    Diesel       Manual  19.67 kmpl  1582 CC  126.2 bhp   \n",
       "2              46000    Petrol       Manual   18.2 kmpl  1199 CC   88.7 bhp   \n",
       "3              87000    Diesel       Manual  20.77 kmpl  1248 CC  88.76 bhp   \n",
       "4              40670    Diesel    Automatic   15.2 kmpl  1968 CC  140.8 bhp   \n",
       "\n",
       "   Seats  \n",
       "0    5.0  \n",
       "1    5.0  \n",
       "2    5.0  \n",
       "3    7.0  \n",
       "4    5.0  "
      ]
     },
     "execution_count": 65,
     "metadata": {},
     "output_type": "execute_result"
    }
   ],
   "source": [
    "# Price에서 남은 결측치 행 삭제\n",
    "\n",
    "df.dropna(subset=['Price'], inplace=True)\n",
    "df.head()"
   ]
  },
  {
   "cell_type": "code",
   "execution_count": 66,
   "id": "5a6a8f3b",
   "metadata": {},
   "outputs": [
    {
     "data": {
      "text/plain": [
       "Name                  0\n",
       "Location              0\n",
       "Price                 0\n",
       "Year                  0\n",
       "Kilometers_Driven     0\n",
       "Fuel_Type             0\n",
       "Transmission          0\n",
       "Mileage               2\n",
       "Engine               42\n",
       "Power                42\n",
       "Seats                48\n",
       "dtype: int64"
      ]
     },
     "execution_count": 66,
     "metadata": {},
     "output_type": "execute_result"
    }
   ],
   "source": [
    "df.isnull().sum()"
   ]
  },
  {
   "cell_type": "markdown",
   "id": "037b343d",
   "metadata": {},
   "source": [
    "* Na 값이면 삭제"
   ]
  },
  {
   "cell_type": "code",
   "execution_count": 67,
   "id": "c647174c",
   "metadata": {},
   "outputs": [],
   "source": [
    "df = df.dropna(subset = ['Mileage','Engine', 'Power'], inplace=False)"
   ]
  },
  {
   "cell_type": "code",
   "execution_count": 68,
   "id": "0c861e28",
   "metadata": {},
   "outputs": [
    {
     "data": {
      "text/plain": [
       "Name                 0\n",
       "Location             0\n",
       "Price                0\n",
       "Year                 0\n",
       "Kilometers_Driven    0\n",
       "Fuel_Type            0\n",
       "Transmission         0\n",
       "Mileage              0\n",
       "Engine               0\n",
       "Power                0\n",
       "Seats                6\n",
       "dtype: int64"
      ]
     },
     "execution_count": 68,
     "metadata": {},
     "output_type": "execute_result"
    }
   ],
   "source": [
    "df.isnull().sum()"
   ]
  },
  {
   "cell_type": "markdown",
   "id": "a7326ecb",
   "metadata": {},
   "source": [
    "* seats 변수 전처리"
   ]
  },
  {
   "cell_type": "code",
   "execution_count": 69,
   "id": "74563534",
   "metadata": {},
   "outputs": [
    {
     "data": {
      "text/html": [
       "<div>\n",
       "<style scoped>\n",
       "    .dataframe tbody tr th:only-of-type {\n",
       "        vertical-align: middle;\n",
       "    }\n",
       "\n",
       "    .dataframe tbody tr th {\n",
       "        vertical-align: top;\n",
       "    }\n",
       "\n",
       "    .dataframe thead th {\n",
       "        text-align: right;\n",
       "    }\n",
       "</style>\n",
       "<table border=\"1\" class=\"dataframe\">\n",
       "  <thead>\n",
       "    <tr style=\"text-align: right;\">\n",
       "      <th></th>\n",
       "      <th>Name</th>\n",
       "      <th>Location</th>\n",
       "      <th>Price</th>\n",
       "      <th>Year</th>\n",
       "      <th>Kilometers_Driven</th>\n",
       "      <th>Fuel_Type</th>\n",
       "      <th>Transmission</th>\n",
       "      <th>Mileage</th>\n",
       "      <th>Engine</th>\n",
       "      <th>Power</th>\n",
       "      <th>Seats</th>\n",
       "    </tr>\n",
       "  </thead>\n",
       "  <tbody>\n",
       "    <tr>\n",
       "      <th>2369</th>\n",
       "      <td>Maruti Estilo LXI</td>\n",
       "      <td>Chennai</td>\n",
       "      <td>2299.44</td>\n",
       "      <td>2008</td>\n",
       "      <td>56000</td>\n",
       "      <td>Petrol</td>\n",
       "      <td>Manual</td>\n",
       "      <td>19.5 kmpl</td>\n",
       "      <td>1061 CC</td>\n",
       "      <td>null bhp</td>\n",
       "      <td>NaN</td>\n",
       "    </tr>\n",
       "    <tr>\n",
       "      <th>3882</th>\n",
       "      <td>Maruti Estilo LXI</td>\n",
       "      <td>Kolkata</td>\n",
       "      <td>3832.40</td>\n",
       "      <td>2010</td>\n",
       "      <td>40000</td>\n",
       "      <td>Petrol</td>\n",
       "      <td>Manual</td>\n",
       "      <td>19.5 kmpl</td>\n",
       "      <td>1061 CC</td>\n",
       "      <td>null bhp</td>\n",
       "      <td>NaN</td>\n",
       "    </tr>\n",
       "    <tr>\n",
       "      <th>5893</th>\n",
       "      <td>Maruti Estilo LXI</td>\n",
       "      <td>Chennai</td>\n",
       "      <td>2682.68</td>\n",
       "      <td>2008</td>\n",
       "      <td>51000</td>\n",
       "      <td>Petrol</td>\n",
       "      <td>Manual</td>\n",
       "      <td>19.5 kmpl</td>\n",
       "      <td>1061 CC</td>\n",
       "      <td>null bhp</td>\n",
       "      <td>NaN</td>\n",
       "    </tr>\n",
       "  </tbody>\n",
       "</table>\n",
       "</div>"
      ],
      "text/plain": [
       "                   Name Location    Price  Year  Kilometers_Driven Fuel_Type  \\\n",
       "2369  Maruti Estilo LXI  Chennai  2299.44  2008              56000    Petrol   \n",
       "3882  Maruti Estilo LXI  Kolkata  3832.40  2010              40000    Petrol   \n",
       "5893  Maruti Estilo LXI  Chennai  2682.68  2008              51000    Petrol   \n",
       "\n",
       "     Transmission    Mileage   Engine     Power  Seats  \n",
       "2369       Manual  19.5 kmpl  1061 CC  null bhp    NaN  \n",
       "3882       Manual  19.5 kmpl  1061 CC  null bhp    NaN  \n",
       "5893       Manual  19.5 kmpl  1061 CC  null bhp    NaN  "
      ]
     },
     "execution_count": 69,
     "metadata": {},
     "output_type": "execute_result"
    }
   ],
   "source": [
    "# 'Name' 열에서 'Maruti Estilo LXI'만 필터링하여 출력합니다.\n",
    "maruti_estilo_lxi = df.loc[df['Name'] == 'Maruti Estilo LXI']\n",
    "\n",
    "# 결과 출력\n",
    "maruti_estilo_lxi\n",
    "\n",
    "#5인승"
   ]
  },
  {
   "cell_type": "code",
   "execution_count": 70,
   "id": "281de3f0",
   "metadata": {},
   "outputs": [
    {
     "data": {
      "text/html": [
       "<div>\n",
       "<style scoped>\n",
       "    .dataframe tbody tr th:only-of-type {\n",
       "        vertical-align: middle;\n",
       "    }\n",
       "\n",
       "    .dataframe tbody tr th {\n",
       "        vertical-align: top;\n",
       "    }\n",
       "\n",
       "    .dataframe thead th {\n",
       "        text-align: right;\n",
       "    }\n",
       "</style>\n",
       "<table border=\"1\" class=\"dataframe\">\n",
       "  <thead>\n",
       "    <tr style=\"text-align: right;\">\n",
       "      <th></th>\n",
       "      <th>Name</th>\n",
       "      <th>Location</th>\n",
       "      <th>Price</th>\n",
       "      <th>Year</th>\n",
       "      <th>Kilometers_Driven</th>\n",
       "      <th>Fuel_Type</th>\n",
       "      <th>Transmission</th>\n",
       "      <th>Mileage</th>\n",
       "      <th>Engine</th>\n",
       "      <th>Power</th>\n",
       "      <th>Seats</th>\n",
       "    </tr>\n",
       "  </thead>\n",
       "  <tbody>\n",
       "    <tr>\n",
       "      <th>3800</th>\n",
       "      <td>Ford Endeavour Hurricane LE</td>\n",
       "      <td>Mumbai</td>\n",
       "      <td>10730.72</td>\n",
       "      <td>2012</td>\n",
       "      <td>129000</td>\n",
       "      <td>Diesel</td>\n",
       "      <td>Automatic</td>\n",
       "      <td>12.8 kmpl</td>\n",
       "      <td>2953 CC</td>\n",
       "      <td>null bhp</td>\n",
       "      <td>NaN</td>\n",
       "    </tr>\n",
       "  </tbody>\n",
       "</table>\n",
       "</div>"
      ],
      "text/plain": [
       "                             Name Location     Price  Year  Kilometers_Driven  \\\n",
       "3800  Ford Endeavour Hurricane LE   Mumbai  10730.72  2012             129000   \n",
       "\n",
       "     Fuel_Type Transmission    Mileage   Engine     Power  Seats  \n",
       "3800    Diesel    Automatic  12.8 kmpl  2953 CC  null bhp    NaN  "
      ]
     },
     "execution_count": 70,
     "metadata": {},
     "output_type": "execute_result"
    }
   ],
   "source": [
    "# 'Name' 열에서 'Ford Endeavour Hurricane LE'만 필터링하여 출력합니다.\n",
    "ford_endeavour_hurricane = df.loc[df['Name'] == 'Ford Endeavour Hurricane LE']\n",
    "\n",
    "# 결과 출력\n",
    "ford_endeavour_hurricane\n",
    "\n",
    "#7인승"
   ]
  },
  {
   "cell_type": "code",
   "execution_count": 71,
   "id": "8f5d04e3",
   "metadata": {},
   "outputs": [
    {
     "data": {
      "text/html": [
       "<div>\n",
       "<style scoped>\n",
       "    .dataframe tbody tr th:only-of-type {\n",
       "        vertical-align: middle;\n",
       "    }\n",
       "\n",
       "    .dataframe tbody tr th {\n",
       "        vertical-align: top;\n",
       "    }\n",
       "\n",
       "    .dataframe thead th {\n",
       "        text-align: right;\n",
       "    }\n",
       "</style>\n",
       "<table border=\"1\" class=\"dataframe\">\n",
       "  <thead>\n",
       "    <tr style=\"text-align: right;\">\n",
       "      <th></th>\n",
       "      <th>Name</th>\n",
       "      <th>Location</th>\n",
       "      <th>Price</th>\n",
       "      <th>Year</th>\n",
       "      <th>Kilometers_Driven</th>\n",
       "      <th>Fuel_Type</th>\n",
       "      <th>Transmission</th>\n",
       "      <th>Mileage</th>\n",
       "      <th>Engine</th>\n",
       "      <th>Power</th>\n",
       "      <th>Seats</th>\n",
       "    </tr>\n",
       "  </thead>\n",
       "  <tbody>\n",
       "    <tr>\n",
       "      <th>229</th>\n",
       "      <td>Ford Figo Diesel</td>\n",
       "      <td>Bangalore</td>\n",
       "      <td>5518.66</td>\n",
       "      <td>2015</td>\n",
       "      <td>70436</td>\n",
       "      <td>Diesel</td>\n",
       "      <td>Manual</td>\n",
       "      <td>0.0 kmpl</td>\n",
       "      <td>1498 CC</td>\n",
       "      <td>99 bhp</td>\n",
       "      <td>NaN</td>\n",
       "    </tr>\n",
       "  </tbody>\n",
       "</table>\n",
       "</div>"
      ],
      "text/plain": [
       "                 Name   Location    Price  Year  Kilometers_Driven Fuel_Type  \\\n",
       "229  Ford Figo Diesel  Bangalore  5518.66  2015              70436    Diesel   \n",
       "\n",
       "    Transmission   Mileage   Engine   Power  Seats  \n",
       "229       Manual  0.0 kmpl  1498 CC  99 bhp    NaN  "
      ]
     },
     "execution_count": 71,
     "metadata": {},
     "output_type": "execute_result"
    }
   ],
   "source": [
    "# 'Name' 열에서 'Ford Figo Diesel'만 필터링하여 출력합니다.\n",
    "ford_figo_diesel = df.loc[df['Name'] == 'Ford Figo Diesel']\n",
    "\n",
    "# 결과 출력\n",
    "ford_figo_diesel\n",
    "\n",
    "#5인승"
   ]
  },
  {
   "cell_type": "code",
   "execution_count": 72,
   "id": "a6c044d9",
   "metadata": {},
   "outputs": [
    {
     "data": {
      "text/html": [
       "<div>\n",
       "<style scoped>\n",
       "    .dataframe tbody tr th:only-of-type {\n",
       "        vertical-align: middle;\n",
       "    }\n",
       "\n",
       "    .dataframe tbody tr th {\n",
       "        vertical-align: top;\n",
       "    }\n",
       "\n",
       "    .dataframe thead th {\n",
       "        text-align: right;\n",
       "    }\n",
       "</style>\n",
       "<table border=\"1\" class=\"dataframe\">\n",
       "  <thead>\n",
       "    <tr style=\"text-align: right;\">\n",
       "      <th></th>\n",
       "      <th>Name</th>\n",
       "      <th>Location</th>\n",
       "      <th>Price</th>\n",
       "      <th>Year</th>\n",
       "      <th>Kilometers_Driven</th>\n",
       "      <th>Fuel_Type</th>\n",
       "      <th>Transmission</th>\n",
       "      <th>Mileage</th>\n",
       "      <th>Engine</th>\n",
       "      <th>Power</th>\n",
       "      <th>Seats</th>\n",
       "    </tr>\n",
       "  </thead>\n",
       "  <tbody>\n",
       "    <tr>\n",
       "      <th>1279</th>\n",
       "      <td>Honda City 1.5 EXI</td>\n",
       "      <td>Pune</td>\n",
       "      <td>1762.90</td>\n",
       "      <td>2005</td>\n",
       "      <td>98437</td>\n",
       "      <td>Petrol</td>\n",
       "      <td>Manual</td>\n",
       "      <td>13.0 kmpl</td>\n",
       "      <td>1493 CC</td>\n",
       "      <td>100 bhp</td>\n",
       "      <td>5.0</td>\n",
       "    </tr>\n",
       "    <tr>\n",
       "      <th>1917</th>\n",
       "      <td>Honda City 1.5 EXI</td>\n",
       "      <td>Jaipur</td>\n",
       "      <td>2606.03</td>\n",
       "      <td>2005</td>\n",
       "      <td>88000</td>\n",
       "      <td>Petrol</td>\n",
       "      <td>Manual</td>\n",
       "      <td>13.0 kmpl</td>\n",
       "      <td>1493 CC</td>\n",
       "      <td>100 bhp</td>\n",
       "      <td>NaN</td>\n",
       "    </tr>\n",
       "    <tr>\n",
       "      <th>3721</th>\n",
       "      <td>Honda City 1.5 EXI</td>\n",
       "      <td>Jaipur</td>\n",
       "      <td>1686.26</td>\n",
       "      <td>2005</td>\n",
       "      <td>123000</td>\n",
       "      <td>Petrol</td>\n",
       "      <td>Manual</td>\n",
       "      <td>13.0 kmpl</td>\n",
       "      <td>1493 CC</td>\n",
       "      <td>100 bhp</td>\n",
       "      <td>5.0</td>\n",
       "    </tr>\n",
       "    <tr>\n",
       "      <th>3806</th>\n",
       "      <td>Honda City 1.5 EXI</td>\n",
       "      <td>Pune</td>\n",
       "      <td>2222.79</td>\n",
       "      <td>2001</td>\n",
       "      <td>125943</td>\n",
       "      <td>Petrol</td>\n",
       "      <td>Manual</td>\n",
       "      <td>13.0 kmpl</td>\n",
       "      <td>1493 CC</td>\n",
       "      <td>100 bhp</td>\n",
       "      <td>5.0</td>\n",
       "    </tr>\n",
       "    <tr>\n",
       "      <th>5957</th>\n",
       "      <td>Honda City 1.5 EXI</td>\n",
       "      <td>Coimbatore</td>\n",
       "      <td>2698.01</td>\n",
       "      <td>2004</td>\n",
       "      <td>186679</td>\n",
       "      <td>Petrol</td>\n",
       "      <td>Manual</td>\n",
       "      <td>13.0 kmpl</td>\n",
       "      <td>1493 CC</td>\n",
       "      <td>100 bhp</td>\n",
       "      <td>5.0</td>\n",
       "    </tr>\n",
       "  </tbody>\n",
       "</table>\n",
       "</div>"
      ],
      "text/plain": [
       "                    Name    Location    Price  Year  Kilometers_Driven  \\\n",
       "1279  Honda City 1.5 EXI        Pune  1762.90  2005              98437   \n",
       "1917  Honda City 1.5 EXI      Jaipur  2606.03  2005              88000   \n",
       "3721  Honda City 1.5 EXI      Jaipur  1686.26  2005             123000   \n",
       "3806  Honda City 1.5 EXI        Pune  2222.79  2001             125943   \n",
       "5957  Honda City 1.5 EXI  Coimbatore  2698.01  2004             186679   \n",
       "\n",
       "     Fuel_Type Transmission    Mileage   Engine    Power  Seats  \n",
       "1279    Petrol       Manual  13.0 kmpl  1493 CC  100 bhp    5.0  \n",
       "1917    Petrol       Manual  13.0 kmpl  1493 CC  100 bhp    NaN  \n",
       "3721    Petrol       Manual  13.0 kmpl  1493 CC  100 bhp    5.0  \n",
       "3806    Petrol       Manual  13.0 kmpl  1493 CC  100 bhp    5.0  \n",
       "5957    Petrol       Manual  13.0 kmpl  1493 CC  100 bhp    5.0  "
      ]
     },
     "execution_count": 72,
     "metadata": {},
     "output_type": "execute_result"
    }
   ],
   "source": [
    "# 'Name' 열에서 'Honda City 1.5 EXI'만 필터링하여 출력합니다.\n",
    "honda_city_exi = df.loc[df['Name'] == 'Honda City 1.5 EXI']\n",
    "\n",
    "# 결과 출력\n",
    "honda_city_exi\n",
    "\n",
    "#5인승"
   ]
  },
  {
   "cell_type": "code",
   "execution_count": 73,
   "id": "9bbf2b7f",
   "metadata": {},
   "outputs": [
    {
     "data": {
      "text/html": [
       "<div>\n",
       "<style scoped>\n",
       "    .dataframe tbody tr th:only-of-type {\n",
       "        vertical-align: middle;\n",
       "    }\n",
       "\n",
       "    .dataframe tbody tr th {\n",
       "        vertical-align: top;\n",
       "    }\n",
       "\n",
       "    .dataframe thead th {\n",
       "        text-align: right;\n",
       "    }\n",
       "</style>\n",
       "<table border=\"1\" class=\"dataframe\">\n",
       "  <thead>\n",
       "    <tr style=\"text-align: right;\">\n",
       "      <th></th>\n",
       "      <th>Name</th>\n",
       "      <th>Location</th>\n",
       "      <th>Price</th>\n",
       "      <th>Year</th>\n",
       "      <th>Kilometers_Driven</th>\n",
       "      <th>Fuel_Type</th>\n",
       "      <th>Transmission</th>\n",
       "      <th>Mileage</th>\n",
       "      <th>Engine</th>\n",
       "      <th>Power</th>\n",
       "      <th>Seats</th>\n",
       "    </tr>\n",
       "  </thead>\n",
       "  <tbody>\n",
       "  </tbody>\n",
       "</table>\n",
       "</div>"
      ],
      "text/plain": [
       "Empty DataFrame\n",
       "Columns: [Name, Location, Price, Year, Kilometers_Driven, Fuel_Type, Transmission, Mileage, Engine, Power, Seats]\n",
       "Index: []"
      ]
     },
     "execution_count": 73,
     "metadata": {},
     "output_type": "execute_result"
    }
   ],
   "source": [
    "# 'Name' 열에서 'Honda Jazz 2020 Petrol'만 필터링하여 출력합니다.\n",
    "honda_jazz_2020 = df.loc[df['Name'] == 'Honda Jazz 2020 Petrol']\n",
    "\n",
    "# 결과 출력\n",
    "honda_jazz_2020\n",
    "\n",
    "#5인승"
   ]
  },
  {
   "cell_type": "code",
   "execution_count": 74,
   "id": "6fef86c0",
   "metadata": {},
   "outputs": [],
   "source": [
    "df[\"Seats\"].fillna(5, inplace=True)"
   ]
  },
  {
   "cell_type": "code",
   "execution_count": 75,
   "id": "01c8a7ac",
   "metadata": {},
   "outputs": [
    {
     "data": {
      "text/plain": [
       "Name                 0\n",
       "Location             0\n",
       "Price                0\n",
       "Year                 0\n",
       "Kilometers_Driven    0\n",
       "Fuel_Type            0\n",
       "Transmission         0\n",
       "Mileage              0\n",
       "Engine               0\n",
       "Power                0\n",
       "Seats                0\n",
       "dtype: int64"
      ]
     },
     "execution_count": 75,
     "metadata": {},
     "output_type": "execute_result"
    }
   ],
   "source": [
    "# 결측치(True) 현황 요약 :sum 함수\n",
    "df.isnull().sum()"
   ]
  },
  {
   "cell_type": "code",
   "execution_count": 76,
   "id": "c79d58aa",
   "metadata": {},
   "outputs": [
    {
     "data": {
      "text/plain": [
       "Name                 Ford Endeavour Hurricane LE\n",
       "Location                                  Mumbai\n",
       "Price                                   10730.72\n",
       "Year                                        2012\n",
       "Kilometers_Driven                         129000\n",
       "Fuel_Type                                 Diesel\n",
       "Transmission                           Automatic\n",
       "Mileage                                12.8 kmpl\n",
       "Engine                                   2953 CC\n",
       "Power                                   null bhp\n",
       "Seats                                        7.0\n",
       "Name: 3800, dtype: object"
      ]
     },
     "execution_count": 76,
     "metadata": {},
     "output_type": "execute_result"
    }
   ],
   "source": [
    "# 하나만 7이라서, 5로 다 채운 후 7로 하나만 채움\n",
    "#3800번 행의 'Seats' 열을 7로 업데이트합니다.\n",
    "df.at[3800, 'Seats'] = 7\n",
    "\n",
    "# 업데이트된 결과 확인\n",
    "updated_row_3900 = df.loc[3800]\n",
    "updated_row_3900"
   ]
  },
  {
   "cell_type": "markdown",
   "id": "92c8d5e1",
   "metadata": {},
   "source": [
    "* 단위를 가지는 데이터, 단위와 분리하고 단위 삭제"
   ]
  },
  {
   "cell_type": "code",
   "execution_count": 77,
   "id": "9cba872b",
   "metadata": {},
   "outputs": [
    {
     "data": {
      "text/html": [
       "<div>\n",
       "<style scoped>\n",
       "    .dataframe tbody tr th:only-of-type {\n",
       "        vertical-align: middle;\n",
       "    }\n",
       "\n",
       "    .dataframe tbody tr th {\n",
       "        vertical-align: top;\n",
       "    }\n",
       "\n",
       "    .dataframe thead th {\n",
       "        text-align: right;\n",
       "    }\n",
       "</style>\n",
       "<table border=\"1\" class=\"dataframe\">\n",
       "  <thead>\n",
       "    <tr style=\"text-align: right;\">\n",
       "      <th></th>\n",
       "      <th>Name</th>\n",
       "      <th>Location</th>\n",
       "      <th>Price</th>\n",
       "      <th>Year</th>\n",
       "      <th>Kilometers_Driven</th>\n",
       "      <th>Fuel_Type</th>\n",
       "      <th>Transmission</th>\n",
       "      <th>Mileage</th>\n",
       "      <th>Engine</th>\n",
       "      <th>Power</th>\n",
       "      <th>Seats</th>\n",
       "      <th>Mileage_UNIT</th>\n",
       "      <th>Power_UNIT</th>\n",
       "      <th>Engine_UNIT</th>\n",
       "    </tr>\n",
       "  </thead>\n",
       "  <tbody>\n",
       "    <tr>\n",
       "      <th>0</th>\n",
       "      <td>Maruti Wagon R LXI CNG</td>\n",
       "      <td>Mumbai</td>\n",
       "      <td>2682.68</td>\n",
       "      <td>2010</td>\n",
       "      <td>72000</td>\n",
       "      <td>CNG</td>\n",
       "      <td>Manual</td>\n",
       "      <td>26.6</td>\n",
       "      <td>998</td>\n",
       "      <td>58.16</td>\n",
       "      <td>5.0</td>\n",
       "      <td>kmpl</td>\n",
       "      <td>bhp</td>\n",
       "      <td>CC</td>\n",
       "    </tr>\n",
       "    <tr>\n",
       "      <th>1</th>\n",
       "      <td>Hyundai Creta 1.6 CRDi SX Option</td>\n",
       "      <td>Pune</td>\n",
       "      <td>19162.00</td>\n",
       "      <td>2015</td>\n",
       "      <td>41000</td>\n",
       "      <td>Diesel</td>\n",
       "      <td>Manual</td>\n",
       "      <td>19.67</td>\n",
       "      <td>1582</td>\n",
       "      <td>126.2</td>\n",
       "      <td>5.0</td>\n",
       "      <td>kmpl</td>\n",
       "      <td>bhp</td>\n",
       "      <td>CC</td>\n",
       "    </tr>\n",
       "    <tr>\n",
       "      <th>2</th>\n",
       "      <td>Honda Jazz V</td>\n",
       "      <td>Chennai</td>\n",
       "      <td>6898.32</td>\n",
       "      <td>2011</td>\n",
       "      <td>46000</td>\n",
       "      <td>Petrol</td>\n",
       "      <td>Manual</td>\n",
       "      <td>18.2</td>\n",
       "      <td>1199</td>\n",
       "      <td>88.7</td>\n",
       "      <td>5.0</td>\n",
       "      <td>kmpl</td>\n",
       "      <td>bhp</td>\n",
       "      <td>CC</td>\n",
       "    </tr>\n",
       "    <tr>\n",
       "      <th>3</th>\n",
       "      <td>Maruti Ertiga VDI</td>\n",
       "      <td>Chennai</td>\n",
       "      <td>9197.76</td>\n",
       "      <td>2012</td>\n",
       "      <td>87000</td>\n",
       "      <td>Diesel</td>\n",
       "      <td>Manual</td>\n",
       "      <td>20.77</td>\n",
       "      <td>1248</td>\n",
       "      <td>88.76</td>\n",
       "      <td>7.0</td>\n",
       "      <td>kmpl</td>\n",
       "      <td>bhp</td>\n",
       "      <td>CC</td>\n",
       "    </tr>\n",
       "    <tr>\n",
       "      <th>4</th>\n",
       "      <td>Audi A4 New 2.0 TDI Multitronic</td>\n",
       "      <td>Coimbatore</td>\n",
       "      <td>27194.71</td>\n",
       "      <td>2013</td>\n",
       "      <td>40670</td>\n",
       "      <td>Diesel</td>\n",
       "      <td>Automatic</td>\n",
       "      <td>15.2</td>\n",
       "      <td>1968</td>\n",
       "      <td>140.8</td>\n",
       "      <td>5.0</td>\n",
       "      <td>kmpl</td>\n",
       "      <td>bhp</td>\n",
       "      <td>CC</td>\n",
       "    </tr>\n",
       "  </tbody>\n",
       "</table>\n",
       "</div>"
      ],
      "text/plain": [
       "                               Name    Location     Price  Year  \\\n",
       "0            Maruti Wagon R LXI CNG      Mumbai   2682.68  2010   \n",
       "1  Hyundai Creta 1.6 CRDi SX Option        Pune  19162.00  2015   \n",
       "2                      Honda Jazz V     Chennai   6898.32  2011   \n",
       "3                 Maruti Ertiga VDI     Chennai   9197.76  2012   \n",
       "4   Audi A4 New 2.0 TDI Multitronic  Coimbatore  27194.71  2013   \n",
       "\n",
       "   Kilometers_Driven Fuel_Type Transmission Mileage Engine  Power  Seats  \\\n",
       "0              72000       CNG       Manual    26.6    998  58.16    5.0   \n",
       "1              41000    Diesel       Manual   19.67   1582  126.2    5.0   \n",
       "2              46000    Petrol       Manual    18.2   1199   88.7    5.0   \n",
       "3              87000    Diesel       Manual   20.77   1248  88.76    7.0   \n",
       "4              40670    Diesel    Automatic    15.2   1968  140.8    5.0   \n",
       "\n",
       "  Mileage_UNIT Power_UNIT Engine_UNIT  \n",
       "0         kmpl        bhp          CC  \n",
       "1         kmpl        bhp          CC  \n",
       "2         kmpl        bhp          CC  \n",
       "3         kmpl        bhp          CC  \n",
       "4         kmpl        bhp          CC  "
      ]
     },
     "execution_count": 77,
     "metadata": {},
     "output_type": "execute_result"
    }
   ],
   "source": [
    "# 마일리지 값과 단위 분리\n",
    "df[['Mileage', 'Mileage_UNIT']] = df['Mileage'].str.split(expand = True)\n",
    "df[['Power', 'Power_UNIT']] = df['Power'].str.split(' ', expand = True)\n",
    "df[['Engine', 'Engine_UNIT']] = df['Engine'].str.split(' ', expand = True)\n",
    "\n",
    "df.head()"
   ]
  },
  {
   "cell_type": "code",
   "execution_count": 78,
   "id": "0a7769f6",
   "metadata": {},
   "outputs": [
    {
     "data": {
      "text/html": [
       "<div>\n",
       "<style scoped>\n",
       "    .dataframe tbody tr th:only-of-type {\n",
       "        vertical-align: middle;\n",
       "    }\n",
       "\n",
       "    .dataframe tbody tr th {\n",
       "        vertical-align: top;\n",
       "    }\n",
       "\n",
       "    .dataframe thead th {\n",
       "        text-align: right;\n",
       "    }\n",
       "</style>\n",
       "<table border=\"1\" class=\"dataframe\">\n",
       "  <thead>\n",
       "    <tr style=\"text-align: right;\">\n",
       "      <th></th>\n",
       "      <th>Name</th>\n",
       "      <th>Location</th>\n",
       "      <th>Price</th>\n",
       "      <th>Year</th>\n",
       "      <th>Kilometers_Driven</th>\n",
       "      <th>Fuel_Type</th>\n",
       "      <th>Transmission</th>\n",
       "      <th>Mileage</th>\n",
       "      <th>Engine</th>\n",
       "      <th>Power</th>\n",
       "      <th>Seats</th>\n",
       "    </tr>\n",
       "  </thead>\n",
       "  <tbody>\n",
       "    <tr>\n",
       "      <th>0</th>\n",
       "      <td>Maruti Wagon R LXI CNG</td>\n",
       "      <td>Mumbai</td>\n",
       "      <td>2682.68</td>\n",
       "      <td>2010</td>\n",
       "      <td>72000</td>\n",
       "      <td>CNG</td>\n",
       "      <td>Manual</td>\n",
       "      <td>26.6</td>\n",
       "      <td>998</td>\n",
       "      <td>58.16</td>\n",
       "      <td>5.0</td>\n",
       "    </tr>\n",
       "    <tr>\n",
       "      <th>1</th>\n",
       "      <td>Hyundai Creta 1.6 CRDi SX Option</td>\n",
       "      <td>Pune</td>\n",
       "      <td>19162.00</td>\n",
       "      <td>2015</td>\n",
       "      <td>41000</td>\n",
       "      <td>Diesel</td>\n",
       "      <td>Manual</td>\n",
       "      <td>19.67</td>\n",
       "      <td>1582</td>\n",
       "      <td>126.2</td>\n",
       "      <td>5.0</td>\n",
       "    </tr>\n",
       "    <tr>\n",
       "      <th>2</th>\n",
       "      <td>Honda Jazz V</td>\n",
       "      <td>Chennai</td>\n",
       "      <td>6898.32</td>\n",
       "      <td>2011</td>\n",
       "      <td>46000</td>\n",
       "      <td>Petrol</td>\n",
       "      <td>Manual</td>\n",
       "      <td>18.2</td>\n",
       "      <td>1199</td>\n",
       "      <td>88.7</td>\n",
       "      <td>5.0</td>\n",
       "    </tr>\n",
       "    <tr>\n",
       "      <th>3</th>\n",
       "      <td>Maruti Ertiga VDI</td>\n",
       "      <td>Chennai</td>\n",
       "      <td>9197.76</td>\n",
       "      <td>2012</td>\n",
       "      <td>87000</td>\n",
       "      <td>Diesel</td>\n",
       "      <td>Manual</td>\n",
       "      <td>20.77</td>\n",
       "      <td>1248</td>\n",
       "      <td>88.76</td>\n",
       "      <td>7.0</td>\n",
       "    </tr>\n",
       "    <tr>\n",
       "      <th>4</th>\n",
       "      <td>Audi A4 New 2.0 TDI Multitronic</td>\n",
       "      <td>Coimbatore</td>\n",
       "      <td>27194.71</td>\n",
       "      <td>2013</td>\n",
       "      <td>40670</td>\n",
       "      <td>Diesel</td>\n",
       "      <td>Automatic</td>\n",
       "      <td>15.2</td>\n",
       "      <td>1968</td>\n",
       "      <td>140.8</td>\n",
       "      <td>5.0</td>\n",
       "    </tr>\n",
       "  </tbody>\n",
       "</table>\n",
       "</div>"
      ],
      "text/plain": [
       "                               Name    Location     Price  Year  \\\n",
       "0            Maruti Wagon R LXI CNG      Mumbai   2682.68  2010   \n",
       "1  Hyundai Creta 1.6 CRDi SX Option        Pune  19162.00  2015   \n",
       "2                      Honda Jazz V     Chennai   6898.32  2011   \n",
       "3                 Maruti Ertiga VDI     Chennai   9197.76  2012   \n",
       "4   Audi A4 New 2.0 TDI Multitronic  Coimbatore  27194.71  2013   \n",
       "\n",
       "   Kilometers_Driven Fuel_Type Transmission Mileage Engine  Power  Seats  \n",
       "0              72000       CNG       Manual    26.6    998  58.16    5.0  \n",
       "1              41000    Diesel       Manual   19.67   1582  126.2    5.0  \n",
       "2              46000    Petrol       Manual    18.2   1199   88.7    5.0  \n",
       "3              87000    Diesel       Manual   20.77   1248  88.76    7.0  \n",
       "4              40670    Diesel    Automatic    15.2   1968  140.8    5.0  "
      ]
     },
     "execution_count": 78,
     "metadata": {},
     "output_type": "execute_result"
    }
   ],
   "source": [
    "# 분리된 마일리지 단위 변수 삭제\n",
    "df = df.drop(['Mileage_UNIT','Power_UNIT','Engine_UNIT'], axis = 1)\n",
    "\n",
    "df.head()"
   ]
  },
  {
   "cell_type": "code",
   "execution_count": 79,
   "id": "1efe979c",
   "metadata": {},
   "outputs": [
    {
     "name": "stdout",
     "output_type": "stream",
     "text": [
      "<class 'pandas.core.frame.DataFrame'>\n",
      "Int64Index: 7083 entries, 0 to 7252\n",
      "Data columns (total 11 columns):\n",
      " #   Column             Non-Null Count  Dtype  \n",
      "---  ------             --------------  -----  \n",
      " 0   Name               7083 non-null   object \n",
      " 1   Location           7083 non-null   object \n",
      " 2   Price              7083 non-null   float64\n",
      " 3   Year               7083 non-null   int64  \n",
      " 4   Kilometers_Driven  7083 non-null   int64  \n",
      " 5   Fuel_Type          7083 non-null   object \n",
      " 6   Transmission       7083 non-null   object \n",
      " 7   Mileage            7083 non-null   object \n",
      " 8   Engine             7083 non-null   object \n",
      " 9   Power              7083 non-null   object \n",
      " 10  Seats              7083 non-null   float64\n",
      "dtypes: float64(2), int64(2), object(7)\n",
      "memory usage: 922.1+ KB\n"
     ]
    }
   ],
   "source": [
    "df.info()"
   ]
  },
  {
   "cell_type": "code",
   "execution_count": 80,
   "id": "531471c4",
   "metadata": {},
   "outputs": [],
   "source": [
    "# df_cleaned에서 'Power' 열의 'null' 값을 NaN으로 변환\n",
    "df['Power'] = df['Power'].replace('null', np.nan).astype(float)"
   ]
  },
  {
   "cell_type": "code",
   "execution_count": 81,
   "id": "0f000ae2",
   "metadata": {},
   "outputs": [
    {
     "data": {
      "text/plain": [
       "Name                   0\n",
       "Location               0\n",
       "Price                  0\n",
       "Year                   0\n",
       "Kilometers_Driven      0\n",
       "Fuel_Type              0\n",
       "Transmission           0\n",
       "Mileage                0\n",
       "Engine                 0\n",
       "Power                125\n",
       "Seats                  0\n",
       "dtype: int64"
      ]
     },
     "execution_count": 81,
     "metadata": {},
     "output_type": "execute_result"
    }
   ],
   "source": [
    "df.isnull().sum()"
   ]
  },
  {
   "cell_type": "code",
   "execution_count": 82,
   "id": "00c164cd",
   "metadata": {
    "scrolled": true
   },
   "outputs": [
    {
     "name": "stdout",
     "output_type": "stream",
     "text": [
      "Name\n",
      "Audi A4 3.2 FSI Tiptronic Quattro           1\n",
      "Chevrolet Optra 1.6 Elite                   1\n",
      "Fiat Petra 1.2 EL                           1\n",
      "Fiat Siena 1.2 ELX                          1\n",
      "Ford Endeavour Hurricane LE                 1\n",
      "Ford Endeavour XLT TDCi 4X4                 1\n",
      "Ford Fiesta 1.4 SXi TDCi                    4\n",
      "Ford Fiesta 1.6 SXI ABS Duratec             1\n",
      "Honda CR-V Sport                            1\n",
      "Hyundai Santro AT                           1\n",
      "Hyundai Santro DX                           1\n",
      "Hyundai Santro GLS I - Euro I               2\n",
      "Hyundai Santro GLS I - Euro II              3\n",
      "Hyundai Santro GS                           1\n",
      "Hyundai Santro GS zipDrive - Euro II        1\n",
      "Hyundai Santro LP - Euro II                 1\n",
      "Hyundai Santro LS zipPlus                   2\n",
      "Hyundai Santro Xing XG eRLX Euro III        2\n",
      "Hyundai Santro Xing XL                      7\n",
      "Hyundai Santro Xing XL AT eRLX Euro II      1\n",
      "Hyundai Santro Xing XL AT eRLX Euro III     1\n",
      "Hyundai Santro Xing XL eRLX Euro III        7\n",
      "Hyundai Santro Xing XO                      5\n",
      "Hyundai Santro Xing XO CNG                  1\n",
      "Hyundai Santro Xing XO eRLX Euro II         5\n",
      "Hyundai Santro Xing XP                      5\n",
      "Mahindra Bolero ZLX                         1\n",
      "Mahindra Jeep MM 540 DP                     1\n",
      "Mahindra Jeep MM 550 PE                     1\n",
      "Maruti 1000 AC                              1\n",
      "Maruti Baleno LXI - BSIII                   1\n",
      "Maruti Baleno Vxi                           1\n",
      "Maruti Esteem LX BSII                       1\n",
      "Maruti Esteem Vxi                           2\n",
      "Maruti Estilo LXI                           3\n",
      "Maruti Swift VDI BSIV                      12\n",
      "Maruti Swift VDI BSIV W ABS                 6\n",
      "Mercedes-Benz E-Class 220 CDI               2\n",
      "Nissan Micra Diesel                         1\n",
      "Nissan Teana 230jM                          3\n",
      "Porsche Cayman 2009-2012 S                  1\n",
      "Porsche Cayman 2009-2012 S tiptronic        1\n",
      "Skoda Laura Classic 1.8 TSI                 1\n",
      "Smart Fortwo CDI AT                         1\n",
      "Tata Indica DLS                             4\n",
      "Toyota Etios GD                             8\n",
      "Toyota Etios Liva G                         4\n",
      "Toyota Etios Liva GD                        8\n",
      "Toyota Qualis Fleet A3                      1\n",
      "Toyota Qualis RS E2                         1\n",
      "Volkswagen Jetta 2007-2011 1.9 L TDI        1\n",
      "dtype: int64\n"
     ]
    },
    {
     "data": {
      "text/plain": [
       "125"
      ]
     },
     "execution_count": 82,
     "metadata": {},
     "output_type": "execute_result"
    }
   ],
   "source": [
    "nan_powers = df[df['Power'].isnull()].groupby('Name').size()\n",
    "print(nan_powers)\n",
    "sum_nan_powers = sum(nan_powers)\n",
    "sum_nan_powers"
   ]
  },
  {
   "cell_type": "code",
   "execution_count": 83,
   "id": "bc95e25f",
   "metadata": {},
   "outputs": [],
   "source": [
    "df['Power'] = df['Power'].replace('null bhp', pd.NA)"
   ]
  },
  {
   "cell_type": "code",
   "execution_count": 84,
   "id": "30cc3b1c",
   "metadata": {},
   "outputs": [],
   "source": [
    "# Hyundai Santro 차량들만 필터링\n",
    "santro_cars = df[df['Name'].str.contains('Hyundai Santro', na=False)]\n",
    "\n",
    "# Hyundai Santro 차량들의 'Power' 열의 평균값 계산 (NaN 제외)\n",
    "santro_power_mean = santro_cars['Power'].mean()\n",
    "\n",
    "# Hyundai Santro 차량들 중 'Power' 열의 결측치를 평균값으로 채우기\n",
    "df.loc[df['Name'].str.contains('Hyundai Santro', na=False), 'Power'] = df.loc[df['Name'].str.contains('Hyundai Santro', na=False), 'Power'].fillna(santro_power_mean)"
   ]
  },
  {
   "cell_type": "code",
   "execution_count": 85,
   "id": "94dd47df",
   "metadata": {},
   "outputs": [],
   "source": [
    "# Ford Endeavour 차량들만 필터링\n",
    "santro_cars = df[df['Name'].str.contains('Ford Endeavour', na=False)]\n",
    "\n",
    "# Ford Endeavour 차량들의 'Power' 열의 평균값 계산 (NaN 제외)\n",
    "santro_power_mean = santro_cars['Power'].mean()\n",
    "\n",
    "# Ford Endeavour 차량들 중 'Power' 열의 결측치를 평균값으로 채우기\n",
    "df.loc[df['Name'].str.contains('Ford Endeavour', na=False), 'Power'] = df.loc[df['Name'].str.contains('Ford Endeavour', na=False), 'Power'].fillna(santro_power_mean)"
   ]
  },
  {
   "cell_type": "code",
   "execution_count": 86,
   "id": "f852e31c",
   "metadata": {},
   "outputs": [],
   "source": [
    "# Ford Fiesta 1.4 SXi TDCi 차량들만 필터링\n",
    "santro_cars = df[df['Name'].str.contains('Ford Fiesta 1.4 SXi TDCi', na=False)]\n",
    "\n",
    "# Ford Fiesta 1.4 SXi TDCi차량들의 'Power' 열의 평균값 계산 (NaN 제외)\n",
    "santro_power_mean = santro_cars['Power'].mean()\n",
    "\n",
    "# Ford Fiesta 1.4 SXi TDCi 차량들 중 'Power' 열의 결측치를 평균값으로 채우기\n",
    "df.loc[df['Name'].str.contains('Ford Fiesta 1.4 SXi TDCi', na=False), 'Power'] = df.loc[df['Name'].str.contains('Ford Fiesta 1.4 SXi TDCi', na=False), 'Power'].fillna(santro_power_mean)"
   ]
  },
  {
   "cell_type": "code",
   "execution_count": 87,
   "id": "be5daf59",
   "metadata": {},
   "outputs": [],
   "source": [
    "# Maruti Swift 차량들만 필터링\n",
    "santro_cars = df[df['Name'].str.contains('Maruti Swift', na=False)]\n",
    "\n",
    "# Maruti Swift 차량들의 'Power' 열의 평균값 계산 (NaN 제외)\n",
    "santro_power_mean = santro_cars['Power'].mean()\n",
    "\n",
    "# Maruti Swift 차량들 중 'Power' 열의 결측치를 평균값으로 채우기\n",
    "df.loc[df['Name'].str.contains('Maruti Swift', na=False), 'Power'] = df.loc[df['Name'].str.contains('Maruti Swift', na=False), 'Power'].fillna(santro_power_mean)"
   ]
  },
  {
   "cell_type": "code",
   "execution_count": 88,
   "id": "7b5e5de2",
   "metadata": {},
   "outputs": [],
   "source": [
    "# Toyota Etios 차량들만 필터링\n",
    "santro_cars = df[df['Name'].str.contains('Toyota Etios', na=False)]\n",
    "\n",
    "# Toyota Etios 차량들의 'Power' 열의 평균값 계산 (NaN 제외)\n",
    "santro_power_mean = santro_cars['Power'].mean()\n",
    "\n",
    "# Toyota Etios 차량들 중 'Power' 열의 결측치를 평균값으로 채우기\n",
    "df.loc[df['Name'].str.contains('Toyota Etios', na=False), 'Power'] = df.loc[df['Name'].str.contains('Toyota Etios', na=False), 'Power'].fillna(santro_power_mean)"
   ]
  },
  {
   "cell_type": "code",
   "execution_count": 89,
   "id": "f9e24530",
   "metadata": {},
   "outputs": [],
   "source": [
    "# Ford Endeavour 차량들만 필터링\n",
    "santro_cars = df[df['Name'].str.contains('Maruti E', na=False)]\n",
    "\n",
    "# Ford Endeavour 차량들의 'Power' 열의 평균값 계산 (NaN 제외)\n",
    "santro_power_mean = santro_cars['Power'].mean()\n",
    "\n",
    "# Ford Endeavour 차량들 중 'Power' 열의 결측치를 평균값으로 채우기\n",
    "df.loc[df['Name'].str.contains('Maruti E', na=False), 'Power'] = df.loc[df['Name'].str.contains('Maruti E', na=False), 'Power'].fillna(santro_power_mean)"
   ]
  },
  {
   "cell_type": "code",
   "execution_count": 90,
   "id": "18b1392d",
   "metadata": {},
   "outputs": [
    {
     "name": "stdout",
     "output_type": "stream",
     "text": [
      "Name\n",
      "Audi A4 3.2 FSI Tiptronic Quattro       1\n",
      "Chevrolet Optra 1.6 Elite               1\n",
      "Fiat Petra 1.2 EL                       1\n",
      "Fiat Siena 1.2 ELX                      1\n",
      "Ford Fiesta 1.6 SXI ABS Duratec         1\n",
      "Honda CR-V Sport                        1\n",
      "Mahindra Bolero ZLX                     1\n",
      "Mahindra Jeep MM 540 DP                 1\n",
      "Mahindra Jeep MM 550 PE                 1\n",
      "Maruti 1000 AC                          1\n",
      "Maruti Baleno LXI - BSIII               1\n",
      "Maruti Baleno Vxi                       1\n",
      "Mercedes-Benz E-Class 220 CDI           2\n",
      "Nissan Micra Diesel                     1\n",
      "Nissan Teana 230jM                      3\n",
      "Porsche Cayman 2009-2012 S              1\n",
      "Porsche Cayman 2009-2012 S tiptronic    1\n",
      "Skoda Laura Classic 1.8 TSI             1\n",
      "Smart Fortwo CDI AT                     1\n",
      "Tata Indica DLS                         4\n",
      "Toyota Qualis Fleet A3                  1\n",
      "Toyota Qualis RS E2                     1\n",
      "Volkswagen Jetta 2007-2011 1.9 L TDI    1\n",
      "dtype: int64\n"
     ]
    },
    {
     "data": {
      "text/plain": [
       "29"
      ]
     },
     "execution_count": 90,
     "metadata": {},
     "output_type": "execute_result"
    }
   ],
   "source": [
    "nan_powers = df[df['Power'].isnull()].groupby('Name').size()\n",
    "print(nan_powers)\n",
    "sum_nan_powers = sum(nan_powers)\n",
    "sum_nan_powers"
   ]
  },
  {
   "cell_type": "code",
   "execution_count": 91,
   "id": "5b3a3c40",
   "metadata": {},
   "outputs": [],
   "source": [
    "#결측치 있는 행 제거\n",
    "df_drona = df.dropna(subset=['Power'])"
   ]
  },
  {
   "cell_type": "code",
   "execution_count": 92,
   "id": "628dd950",
   "metadata": {},
   "outputs": [
    {
     "name": "stdout",
     "output_type": "stream",
     "text": [
      "Series([], dtype: int64)\n"
     ]
    },
    {
     "data": {
      "text/plain": [
       "0"
      ]
     },
     "execution_count": 92,
     "metadata": {},
     "output_type": "execute_result"
    }
   ],
   "source": [
    "#결측치 확인\n",
    "nan_powers = df_drona[df_drona['Power'].isnull()].groupby('Name').size()\n",
    "print(nan_powers)\n",
    "sum_nan_powers = sum(nan_powers)\n",
    "sum_nan_powers"
   ]
  },
  {
   "cell_type": "code",
   "execution_count": 93,
   "id": "15d5afea",
   "metadata": {},
   "outputs": [],
   "source": [
    "# 데이터 전처리\n",
    "# Location 열을 라벨 인코딩하여 정수로 변환.\n",
    "# Name 열에서 각 이름의 앞 두 단어만 남김.\n",
    "\n",
    "label_encoder = LabelEncoder()\n",
    "df_drona['Location'] = label_encoder.fit_transform(df_drona['Location'])"
   ]
  },
  {
   "cell_type": "code",
   "execution_count": 94,
   "id": "70352bc8",
   "metadata": {},
   "outputs": [
    {
     "data": {
      "image/png": "[encoded data removed]",
      "text/plain": [
       "<Figure size 1000x600 with 1 Axes>"
      ]
     },
     "metadata": {},
     "output_type": "display_data"
    }
   ],
   "source": [
    "plt.figure(figsize=(10, 6))\n",
    "sns.histplot(df_drona, x='Year', bins=20, kde=True)\n",
    "plt.title('연도별 자동차 가격 분포')\n",
    "plt.xlabel('Year')\n",
    "plt.ylabel('Frequency')\n",
    "plt.show()"
   ]
  },
  {
   "cell_type": "code",
   "execution_count": 95,
   "id": "b2f92108",
   "metadata": {},
   "outputs": [
    {
     "data": {
      "image/png": "[encoded data removed]",
      "text/plain": [
       "<Figure size 1000x600 with 1 Axes>"
      ]
     },
     "metadata": {},
     "output_type": "display_data"
    }
   ],
   "source": [
    "# 주행 거리별 자동차 가격 분포\n",
    "plt.figure(figsize=(10, 6))\n",
    "sns.histplot(df_drona, x='Kilometers_Driven', bins=20, kde=True)\n",
    "plt.title('주행 거리별 자동차 가격 분포')\n",
    "plt.xlabel('Kilometers Driven')\n",
    "plt.ylabel('Frequency')\n",
    "plt.show()"
   ]
  },
  {
   "cell_type": "code",
   "execution_count": 96,
   "id": "deb10c6c",
   "metadata": {},
   "outputs": [
    {
     "data": {
      "image/png": "[encoded data removed]",
      "text/plain": [
       "<Figure size 1400x800 with 1 Axes>"
      ]
     },
     "metadata": {},
     "output_type": "display_data"
    }
   ],
   "source": [
    "# 위치별 자동차 가격의 박스 플롯\n",
    "plt.figure(figsize=(14, 8))\n",
    "sns.boxplot(x='Location', y='Price', data=df_drona)\n",
    "plt.title('위치별 자동차 가격의 박스 플롯')\n",
    "plt.xlabel('Location')\n",
    "plt.ylabel('Price')\n",
    "plt.xticks(rotation=45)\n",
    "plt.show()"
   ]
  },
  {
   "cell_type": "markdown",
   "id": "69e240c4",
   "metadata": {},
   "source": [
    "그래프 그리기\n",
    " 1.연도별 자동차 가격 분포\n",
    " 2.주행 거리별 자동차 가격 분포\n",
    " 3.위치별 자동차 가격의 박스 플롯\n",
    "\n",
    "그래프 분석 결과\n",
    " 2015년 연식의 자동차까지는 판매량이 증가하다 점차 감소\n",
    " 주행 거리가 많을수록 자동차 가격이 낮아진다"
   ]
  },
  {
   "cell_type": "code",
   "execution_count": 97,
   "id": "49331340",
   "metadata": {},
   "outputs": [
    {
     "name": "stdout",
     "output_type": "stream",
     "text": [
      "T-test result: t_stat=-9.38203455613607, p_value=2.800522451628911e-20\n"
     ]
    },
    {
     "ename": "NameError",
     "evalue": "name 'df_raw' is not defined",
     "output_type": "error",
     "traceback": [
      "\u001b[0;31m---------------------------------------------------------------------------\u001b[0m",
      "\u001b[0;31mNameError\u001b[0m                                 Traceback (most recent call last)",
      "Cell \u001b[0;32mIn[97], line 9\u001b[0m\n\u001b[1;32m      6\u001b[0m \u001b[38;5;28mprint\u001b[39m(\u001b[38;5;124mf\u001b[39m\u001b[38;5;124m\"\u001b[39m\u001b[38;5;124mT-test result: t_stat=\u001b[39m\u001b[38;5;132;01m{\u001b[39;00mt_stat\u001b[38;5;132;01m}\u001b[39;00m\u001b[38;5;124m, p_value=\u001b[39m\u001b[38;5;132;01m{\u001b[39;00mp_value\u001b[38;5;132;01m}\u001b[39;00m\u001b[38;5;124m\"\u001b[39m)\n\u001b[1;32m      8\u001b[0m \u001b[38;5;66;03m# ANOVA (F-검정): 여러 위치의 자동차 가격 평균 비교\u001b[39;00m\n\u001b[0;32m----> 9\u001b[0m grouped_prices \u001b[38;5;241m=\u001b[39m [df_raw[df_raw[\u001b[38;5;124m'\u001b[39m\u001b[38;5;124mLocation\u001b[39m\u001b[38;5;124m'\u001b[39m] \u001b[38;5;241m==\u001b[39m loc][\u001b[38;5;124m'\u001b[39m\u001b[38;5;124mPrice\u001b[39m\u001b[38;5;124m'\u001b[39m] \u001b[38;5;28;01mfor\u001b[39;00m loc \u001b[38;5;129;01min\u001b[39;00m \u001b[43mdf_raw\u001b[49m[\u001b[38;5;124m'\u001b[39m\u001b[38;5;124mLocation\u001b[39m\u001b[38;5;124m'\u001b[39m]\u001b[38;5;241m.\u001b[39munique()]\n\u001b[1;32m     10\u001b[0m grouped_prices_cleaned \u001b[38;5;241m=\u001b[39m [group\u001b[38;5;241m.\u001b[39mdropna() \u001b[38;5;28;01mfor\u001b[39;00m group \u001b[38;5;129;01min\u001b[39;00m grouped_prices]\n\u001b[1;32m     12\u001b[0m f_stat, p_value \u001b[38;5;241m=\u001b[39m f_oneway(\u001b[38;5;241m*\u001b[39mgrouped_prices_cleaned)\n",
      "\u001b[0;31mNameError\u001b[0m: name 'df_raw' is not defined"
     ]
    }
   ],
   "source": [
    "# T-검정: 2010년과 2015년의 평균 자동차 가격 비교\n",
    "prices_2010 = df_drona[df_drona['Year'] == 2010]['Price']\n",
    "prices_2015 = df_drona[df_drona['Year'] == 2015]['Price']\n",
    "\n",
    "t_stat, p_value = ttest_ind(prices_2010, prices_2015, nan_policy='omit')\n",
    "print(f\"T-test result: t_stat={t_stat}, p_value={p_value}\")\n",
    "\n",
    "# ANOVA (F-검정): 여러 위치의 자동차 가격 평균 비교\n",
    "grouped_prices = [df_raw[df_raw['Location'] == loc]['Price'] for loc in df_raw['Location'].unique()]\n",
    "grouped_prices_cleaned = [group.dropna() for group in grouped_prices]\n",
    "\n",
    "f_stat, p_value = f_oneway(*grouped_prices_cleaned)\n",
    "print(f\"ANOVA result: f_stat={f_stat}, p_value={p_value}\")\n",
    "\n",
    "# 카이제곱 검정: Location과 Fuel_Type 간의 독립성 검정\n",
    "contingency_table = pd.crosstab(df_raw['Location'], df_raw['Fuel_Type'])\n",
    "chi2_stat, p_val, dof, expected = chi2_contingency(contingency_table)\n",
    "print(f\"Chi-squared test result: chi2_stat={chi2_stat}, p_value={p_val}, dof={dof}\")"
   ]
  },
  {
   "cell_type": "code",
   "execution_count": null,
   "id": "65431745",
   "metadata": {},
   "outputs": [],
   "source": [
    "df['Name'].value_counts()"
   ]
  },
  {
   "cell_type": "code",
   "execution_count": null,
   "id": "52feb68e",
   "metadata": {},
   "outputs": [],
   "source": [
    "df_drona['Name'] = df['Name'].apply(lambda x : ' '.join(x.split()[:1]))\n",
    "df_drona['Name'].describe()"
   ]
  },
  {
   "cell_type": "code",
   "execution_count": 98,
   "id": "9077cc8f",
   "metadata": {},
   "outputs": [
    {
     "data": {
      "text/plain": [
       "Mahindra XUV500 W8 2WD                        55\n",
       "Maruti Swift VDI                              49\n",
       "Maruti Swift Dzire VDI                        42\n",
       "Honda City 1.5 S MT                           39\n",
       "Maruti Swift VDI BSIV                         37\n",
       "                                              ..\n",
       "Mercedes-Benz New C-Class 220 CDI AT          11\n",
       "Hyundai Elantra CRDi SX                       11\n",
       "Honda City i DTEC VX                          11\n",
       "Hyundai Creta 1.6 SX Plus Petrol Automatic    11\n",
       "Toyota Innova 2.5 G4 Diesel 8-seater          11\n",
       "Name: Name, Length: 139, dtype: int64"
      ]
     },
     "execution_count": 98,
     "metadata": {},
     "output_type": "execute_result"
    }
   ],
   "source": [
    "name_counts = df_drona['Name'].value_counts()\n",
    "names_to_keep = name_counts[name_counts > 10].index\n",
    "df_drona = df_drona[df_drona['Name'].isin(names_to_keep)]\n",
    "\n",
    "df_drona['Name'].value_counts()"
   ]
  },
  {
   "cell_type": "code",
   "execution_count": 99,
   "id": "48e759d4",
   "metadata": {},
   "outputs": [
    {
     "name": "stdout",
     "output_type": "stream",
     "text": [
      "                                  Name  Location         Price  Year  \\\n",
      "0               Maruti Wagon R LXI CNG         9   2682.680000  2010   \n",
      "1     Hyundai Creta 1.6 CRDi SX Option        10  19162.000000  2015   \n",
      "3                    Maruti Ertiga VDI         2   9197.760000  2012   \n",
      "6               Nissan Micra Diesel XV         6   5365.360000  2013   \n",
      "12               Maruti Swift VDI BSIV         6   8584.580000  2015   \n",
      "...                                ...       ...           ...   ...   \n",
      "7246         Hyundai Grand i10 AT Asta         3   8879.670625  2016   \n",
      "7247           Hyundai EON D Lite Plus         3   4692.133333  2015   \n",
      "7249            Volkswagen Polo GT TSI         9  10564.010000  2015   \n",
      "7250            Nissan Micra Diesel XV         8   5004.021429  2012   \n",
      "7251            Volkswagen Polo GT TSI        10  10564.010000  2013   \n",
      "\n",
      "      Kilometers_Driven Fuel_Type Transmission Mileage Engine   Power  Seats  \n",
      "0                 72000       CNG       Manual    26.6    998   58.16    5.0  \n",
      "1                 41000    Diesel       Manual   19.67   1582  126.20    5.0  \n",
      "3                 87000    Diesel       Manual   20.77   1248   88.76    7.0  \n",
      "6                 86999    Diesel       Manual   23.08   1461   63.10    5.0  \n",
      "12                64424    Diesel       Manual    25.2   1248   74.00    5.0  \n",
      "...                 ...       ...          ...     ...    ...     ...    ...  \n",
      "7246              18242    Petrol    Automatic    18.9   1197   82.00    5.0  \n",
      "7247              21190    Petrol       Manual    21.1    814   55.20    5.0  \n",
      "7249              59000    Petrol    Automatic   17.21   1197  103.60    5.0  \n",
      "7250              28000    Diesel       Manual   23.08   1461   63.10    5.0  \n",
      "7251              52262    Petrol    Automatic    17.2   1197  103.60    5.0  \n",
      "\n",
      "[2472 rows x 11 columns]\n"
     ]
    }
   ],
   "source": [
    "print(df_drona) "
   ]
  },
  {
   "cell_type": "markdown",
   "id": "5c14217a",
   "metadata": {},
   "source": [
    "* Kilometers_Driven 함수 전처리"
   ]
  },
  {
   "cell_type": "code",
   "execution_count": 100,
   "id": "45a1090f",
   "metadata": {},
   "outputs": [
    {
     "data": {
      "text/plain": [
       "{'whiskers': [<matplotlib.lines.Line2D at 0x7ff85f2e5210>,\n",
       "  <matplotlib.lines.Line2D at 0x7ff85f2e5840>],\n",
       " 'caps': [<matplotlib.lines.Line2D at 0x7ff85f2e57e0>,\n",
       "  <matplotlib.lines.Line2D at 0x7ff85f2e56f0>],\n",
       " 'boxes': [<matplotlib.lines.Line2D at 0x7ff85f2e5390>],\n",
       " 'medians': [<matplotlib.lines.Line2D at 0x7ff85f2e5d20>],\n",
       " 'fliers': [<matplotlib.lines.Line2D at 0x7ff85f2e6590>],\n",
       " 'means': []}"
      ]
     },
     "execution_count": 100,
     "metadata": {},
     "output_type": "execute_result"
    },
    {
     "data": {
      "image/png": "[encoded data removed]",
      "text/plain": [
       "<Figure size 640x480 with 1 Axes>"
      ]
     },
     "metadata": {},
     "output_type": "display_data"
    }
   ],
   "source": [
    "plt.boxplot(df_drona['Kilometers_Driven'].dropna(), vert=False)"
   ]
  },
  {
   "cell_type": "code",
   "execution_count": 101,
   "id": "755cd05f",
   "metadata": {},
   "outputs": [],
   "source": [
    "Q1 = df['Kilometers_Driven'].quantile(0.25)\n",
    "Q3 = df['Kilometers_Driven'].quantile(0.75)\n",
    "IQR = Q3 - Q1\n",
    "lower_bound = Q1 - 1.5 * IQR\n",
    "upper_bound = Q3 + 1.5 * IQR\n",
    "df_kilo = df_drona[~((df_drona['Kilometers_Driven'] < lower_bound) | (df_drona['Kilometers_Driven'] > upper_bound))]"
   ]
  },
  {
   "cell_type": "code",
   "execution_count": 102,
   "id": "398d7f46",
   "metadata": {},
   "outputs": [
    {
     "data": {
      "text/plain": [
       "{'whiskers': [<matplotlib.lines.Line2D at 0x7ff86688e860>,\n",
       "  <matplotlib.lines.Line2D at 0x7ff86688e290>],\n",
       " 'caps': [<matplotlib.lines.Line2D at 0x7ff86688eef0>,\n",
       "  <matplotlib.lines.Line2D at 0x7ff86688ef50>],\n",
       " 'boxes': [<matplotlib.lines.Line2D at 0x7ff86688ddb0>],\n",
       " 'medians': [<matplotlib.lines.Line2D at 0x7ff86688f550>],\n",
       " 'fliers': [<matplotlib.lines.Line2D at 0x7ff86688f520>],\n",
       " 'means': []}"
      ]
     },
     "execution_count": 102,
     "metadata": {},
     "output_type": "execute_result"
    },
    {
     "data": {
      "image/png": "[encoded data removed]",
      "text/plain": [
       "<Figure size 640x480 with 1 Axes>"
      ]
     },
     "metadata": {},
     "output_type": "display_data"
    }
   ],
   "source": [
    "plt.boxplot(df_kilo['Kilometers_Driven'].dropna(), vert=False)"
   ]
  },
  {
   "cell_type": "markdown",
   "id": "078a9ec4",
   "metadata": {},
   "source": [
    "1번\n",
    "하한값과 상한값 기준을 정해서 처리한 데이터\n",
    "하한값: Q1−1.5×IQRQ1−1.5×IQR\n",
    "상한값: Q3+1.5×IQRQ3+1.5×IQR\n",
    "이 기준을 벗어나는 이상치가 258개 있음\n",
    "기준을 벗어나는 이상치를 제거한 df_cleaned"
   ]
  },
  {
   "cell_type": "code",
   "execution_count": 105,
   "id": "d1b6441b",
   "metadata": {},
   "outputs": [
    {
     "data": {
      "text/html": [
       "<div>\n",
       "<style scoped>\n",
       "    .dataframe tbody tr th:only-of-type {\n",
       "        vertical-align: middle;\n",
       "    }\n",
       "\n",
       "    .dataframe tbody tr th {\n",
       "        vertical-align: top;\n",
       "    }\n",
       "\n",
       "    .dataframe thead th {\n",
       "        text-align: right;\n",
       "    }\n",
       "</style>\n",
       "<table border=\"1\" class=\"dataframe\">\n",
       "  <thead>\n",
       "    <tr style=\"text-align: right;\">\n",
       "      <th></th>\n",
       "      <th>Name</th>\n",
       "      <th>Location</th>\n",
       "      <th>Price</th>\n",
       "      <th>Year</th>\n",
       "      <th>Kilometers_Driven</th>\n",
       "      <th>Fuel_Type</th>\n",
       "      <th>Transmission</th>\n",
       "      <th>Mileage</th>\n",
       "      <th>Engine</th>\n",
       "      <th>Power</th>\n",
       "      <th>Seats</th>\n",
       "    </tr>\n",
       "  </thead>\n",
       "  <tbody>\n",
       "    <tr>\n",
       "      <th>1860</th>\n",
       "      <td>Volkswagen Vento Diesel Highline</td>\n",
       "      <td>2</td>\n",
       "      <td>9044.460000</td>\n",
       "      <td>2013</td>\n",
       "      <td>720000</td>\n",
       "      <td>Diesel</td>\n",
       "      <td>Manual</td>\n",
       "      <td>20.54</td>\n",
       "      <td>1598</td>\n",
       "      <td>103.6</td>\n",
       "      <td>5.0</td>\n",
       "    </tr>\n",
       "    <tr>\n",
       "      <th>358</th>\n",
       "      <td>Hyundai i10 Magna 1.2</td>\n",
       "      <td>2</td>\n",
       "      <td>4138.990000</td>\n",
       "      <td>2009</td>\n",
       "      <td>620000</td>\n",
       "      <td>Petrol</td>\n",
       "      <td>Manual</td>\n",
       "      <td>20.36</td>\n",
       "      <td>1197</td>\n",
       "      <td>78.9</td>\n",
       "      <td>5.0</td>\n",
       "    </tr>\n",
       "    <tr>\n",
       "      <th>3092</th>\n",
       "      <td>Honda City i VTEC SV</td>\n",
       "      <td>8</td>\n",
       "      <td>7664.800000</td>\n",
       "      <td>2015</td>\n",
       "      <td>480000</td>\n",
       "      <td>Petrol</td>\n",
       "      <td>Manual</td>\n",
       "      <td>17.4</td>\n",
       "      <td>1497</td>\n",
       "      <td>117.3</td>\n",
       "      <td>5.0</td>\n",
       "    </tr>\n",
       "    <tr>\n",
       "      <th>6921</th>\n",
       "      <td>Maruti Swift Dzire Tour LDI</td>\n",
       "      <td>6</td>\n",
       "      <td>6124.175000</td>\n",
       "      <td>2012</td>\n",
       "      <td>350000</td>\n",
       "      <td>Diesel</td>\n",
       "      <td>Manual</td>\n",
       "      <td>23.4</td>\n",
       "      <td>1248</td>\n",
       "      <td>74.0</td>\n",
       "      <td>5.0</td>\n",
       "    </tr>\n",
       "    <tr>\n",
       "      <th>29</th>\n",
       "      <td>Toyota Innova 2.5 V Diesel 7-seater</td>\n",
       "      <td>9</td>\n",
       "      <td>6131.840000</td>\n",
       "      <td>2007</td>\n",
       "      <td>262000</td>\n",
       "      <td>Diesel</td>\n",
       "      <td>Manual</td>\n",
       "      <td>12.8</td>\n",
       "      <td>2494</td>\n",
       "      <td>102.0</td>\n",
       "      <td>7.0</td>\n",
       "    </tr>\n",
       "    <tr>\n",
       "      <th>...</th>\n",
       "      <td>...</td>\n",
       "      <td>...</td>\n",
       "      <td>...</td>\n",
       "      <td>...</td>\n",
       "      <td>...</td>\n",
       "      <td>...</td>\n",
       "      <td>...</td>\n",
       "      <td>...</td>\n",
       "      <td>...</td>\n",
       "      <td>...</td>\n",
       "      <td>...</td>\n",
       "    </tr>\n",
       "    <tr>\n",
       "      <th>4492</th>\n",
       "      <td>Maruti Alto 800 LXI</td>\n",
       "      <td>8</td>\n",
       "      <td>4215.640000</td>\n",
       "      <td>2017</td>\n",
       "      <td>2196</td>\n",
       "      <td>Petrol</td>\n",
       "      <td>Manual</td>\n",
       "      <td>22.74</td>\n",
       "      <td>796</td>\n",
       "      <td>47.3</td>\n",
       "      <td>5.0</td>\n",
       "    </tr>\n",
       "    <tr>\n",
       "      <th>1362</th>\n",
       "      <td>Maruti Alto K10 VXI</td>\n",
       "      <td>8</td>\n",
       "      <td>5518.660000</td>\n",
       "      <td>2018</td>\n",
       "      <td>2100</td>\n",
       "      <td>Petrol</td>\n",
       "      <td>Manual</td>\n",
       "      <td>24.07</td>\n",
       "      <td>998</td>\n",
       "      <td>67.1</td>\n",
       "      <td>5.0</td>\n",
       "    </tr>\n",
       "    <tr>\n",
       "      <th>1856</th>\n",
       "      <td>Hyundai Grand i10 Sportz</td>\n",
       "      <td>8</td>\n",
       "      <td>7818.100000</td>\n",
       "      <td>2018</td>\n",
       "      <td>1800</td>\n",
       "      <td>Petrol</td>\n",
       "      <td>Manual</td>\n",
       "      <td>18.9</td>\n",
       "      <td>1197</td>\n",
       "      <td>82.0</td>\n",
       "      <td>5.0</td>\n",
       "    </tr>\n",
       "    <tr>\n",
       "      <th>5966</th>\n",
       "      <td>Maruti Wagon R VXI BS IV</td>\n",
       "      <td>5</td>\n",
       "      <td>7204.910000</td>\n",
       "      <td>2018</td>\n",
       "      <td>1048</td>\n",
       "      <td>Petrol</td>\n",
       "      <td>Manual</td>\n",
       "      <td>18.9</td>\n",
       "      <td>998</td>\n",
       "      <td>67.1</td>\n",
       "      <td>5.0</td>\n",
       "    </tr>\n",
       "    <tr>\n",
       "      <th>6214</th>\n",
       "      <td>Maruti Alto 800 2016-2019 LXI</td>\n",
       "      <td>9</td>\n",
       "      <td>4049.800909</td>\n",
       "      <td>2018</td>\n",
       "      <td>1001</td>\n",
       "      <td>Petrol</td>\n",
       "      <td>Manual</td>\n",
       "      <td>24.7</td>\n",
       "      <td>796</td>\n",
       "      <td>47.3</td>\n",
       "      <td>5.0</td>\n",
       "    </tr>\n",
       "  </tbody>\n",
       "</table>\n",
       "<p>2472 rows × 11 columns</p>\n",
       "</div>"
      ],
      "text/plain": [
       "                                     Name  Location        Price  Year  \\\n",
       "1860     Volkswagen Vento Diesel Highline         2  9044.460000  2013   \n",
       "358                 Hyundai i10 Magna 1.2         2  4138.990000  2009   \n",
       "3092                 Honda City i VTEC SV         8  7664.800000  2015   \n",
       "6921          Maruti Swift Dzire Tour LDI         6  6124.175000  2012   \n",
       "29    Toyota Innova 2.5 V Diesel 7-seater         9  6131.840000  2007   \n",
       "...                                   ...       ...          ...   ...   \n",
       "4492                  Maruti Alto 800 LXI         8  4215.640000  2017   \n",
       "1362                  Maruti Alto K10 VXI         8  5518.660000  2018   \n",
       "1856             Hyundai Grand i10 Sportz         8  7818.100000  2018   \n",
       "5966             Maruti Wagon R VXI BS IV         5  7204.910000  2018   \n",
       "6214        Maruti Alto 800 2016-2019 LXI         9  4049.800909  2018   \n",
       "\n",
       "      Kilometers_Driven Fuel_Type Transmission Mileage Engine  Power  Seats  \n",
       "1860             720000    Diesel       Manual   20.54   1598  103.6    5.0  \n",
       "358              620000    Petrol       Manual   20.36   1197   78.9    5.0  \n",
       "3092             480000    Petrol       Manual    17.4   1497  117.3    5.0  \n",
       "6921             350000    Diesel       Manual    23.4   1248   74.0    5.0  \n",
       "29               262000    Diesel       Manual    12.8   2494  102.0    7.0  \n",
       "...                 ...       ...          ...     ...    ...    ...    ...  \n",
       "4492               2196    Petrol       Manual   22.74    796   47.3    5.0  \n",
       "1362               2100    Petrol       Manual   24.07    998   67.1    5.0  \n",
       "1856               1800    Petrol       Manual    18.9   1197   82.0    5.0  \n",
       "5966               1048    Petrol       Manual    18.9    998   67.1    5.0  \n",
       "6214               1001    Petrol       Manual    24.7    796   47.3    5.0  \n",
       "\n",
       "[2472 rows x 11 columns]"
      ]
     },
     "execution_count": 105,
     "metadata": {},
     "output_type": "execute_result"
    }
   ],
   "source": [
    "df_drona.sort_values(by='Kilometers_Driven', ascending=False)"
   ]
  },
  {
   "cell_type": "code",
   "execution_count": 106,
   "id": "7735b719",
   "metadata": {},
   "outputs": [],
   "source": [
    "df_raw = df_drona[~df_drona['Kilometers_Driven'].isin([6500000, 775000, 720000, 620000,480000,445000,350000,300000])]"
   ]
  },
  {
   "cell_type": "code",
   "execution_count": 107,
   "id": "cae43b8c",
   "metadata": {},
   "outputs": [
    {
     "data": {
      "text/html": [
       "<div>\n",
       "<style scoped>\n",
       "    .dataframe tbody tr th:only-of-type {\n",
       "        vertical-align: middle;\n",
       "    }\n",
       "\n",
       "    .dataframe tbody tr th {\n",
       "        vertical-align: top;\n",
       "    }\n",
       "\n",
       "    .dataframe thead th {\n",
       "        text-align: right;\n",
       "    }\n",
       "</style>\n",
       "<table border=\"1\" class=\"dataframe\">\n",
       "  <thead>\n",
       "    <tr style=\"text-align: right;\">\n",
       "      <th></th>\n",
       "      <th>Name</th>\n",
       "      <th>Location</th>\n",
       "      <th>Price</th>\n",
       "      <th>Year</th>\n",
       "      <th>Kilometers_Driven</th>\n",
       "      <th>Fuel_Type</th>\n",
       "      <th>Transmission</th>\n",
       "      <th>Mileage</th>\n",
       "      <th>Engine</th>\n",
       "      <th>Power</th>\n",
       "      <th>Seats</th>\n",
       "    </tr>\n",
       "  </thead>\n",
       "  <tbody>\n",
       "    <tr>\n",
       "      <th>29</th>\n",
       "      <td>Toyota Innova 2.5 V Diesel 7-seater</td>\n",
       "      <td>9</td>\n",
       "      <td>6131.840000</td>\n",
       "      <td>2007</td>\n",
       "      <td>262000</td>\n",
       "      <td>Diesel</td>\n",
       "      <td>Manual</td>\n",
       "      <td>12.8</td>\n",
       "      <td>2494</td>\n",
       "      <td>102.0</td>\n",
       "      <td>7.0</td>\n",
       "    </tr>\n",
       "    <tr>\n",
       "      <th>5834</th>\n",
       "      <td>Toyota Innova 2.5 G (Diesel) 8 Seater</td>\n",
       "      <td>6</td>\n",
       "      <td>12110.380000</td>\n",
       "      <td>2013</td>\n",
       "      <td>250000</td>\n",
       "      <td>Diesel</td>\n",
       "      <td>Manual</td>\n",
       "      <td>12.99</td>\n",
       "      <td>2494</td>\n",
       "      <td>100.6</td>\n",
       "      <td>8.0</td>\n",
       "    </tr>\n",
       "    <tr>\n",
       "      <th>1101</th>\n",
       "      <td>Toyota Innova 2.5 V Diesel 7-seater</td>\n",
       "      <td>2</td>\n",
       "      <td>14103.230000</td>\n",
       "      <td>2011</td>\n",
       "      <td>248000</td>\n",
       "      <td>Diesel</td>\n",
       "      <td>Manual</td>\n",
       "      <td>12.8</td>\n",
       "      <td>2494</td>\n",
       "      <td>102.0</td>\n",
       "      <td>7.0</td>\n",
       "    </tr>\n",
       "    <tr>\n",
       "      <th>4792</th>\n",
       "      <td>Toyota Fortuner 3.0 Diesel</td>\n",
       "      <td>2</td>\n",
       "      <td>16862.560000</td>\n",
       "      <td>2010</td>\n",
       "      <td>242000</td>\n",
       "      <td>Diesel</td>\n",
       "      <td>Manual</td>\n",
       "      <td>11.5</td>\n",
       "      <td>2982</td>\n",
       "      <td>171.0</td>\n",
       "      <td>7.0</td>\n",
       "    </tr>\n",
       "    <tr>\n",
       "      <th>2988</th>\n",
       "      <td>Toyota Innova 2.5 G4 Diesel 8-seater</td>\n",
       "      <td>2</td>\n",
       "      <td>7818.100000</td>\n",
       "      <td>2005</td>\n",
       "      <td>240000</td>\n",
       "      <td>Diesel</td>\n",
       "      <td>Manual</td>\n",
       "      <td>12.8</td>\n",
       "      <td>2494</td>\n",
       "      <td>102.0</td>\n",
       "      <td>8.0</td>\n",
       "    </tr>\n",
       "    <tr>\n",
       "      <th>...</th>\n",
       "      <td>...</td>\n",
       "      <td>...</td>\n",
       "      <td>...</td>\n",
       "      <td>...</td>\n",
       "      <td>...</td>\n",
       "      <td>...</td>\n",
       "      <td>...</td>\n",
       "      <td>...</td>\n",
       "      <td>...</td>\n",
       "      <td>...</td>\n",
       "      <td>...</td>\n",
       "    </tr>\n",
       "    <tr>\n",
       "      <th>4492</th>\n",
       "      <td>Maruti Alto 800 LXI</td>\n",
       "      <td>8</td>\n",
       "      <td>4215.640000</td>\n",
       "      <td>2017</td>\n",
       "      <td>2196</td>\n",
       "      <td>Petrol</td>\n",
       "      <td>Manual</td>\n",
       "      <td>22.74</td>\n",
       "      <td>796</td>\n",
       "      <td>47.3</td>\n",
       "      <td>5.0</td>\n",
       "    </tr>\n",
       "    <tr>\n",
       "      <th>1362</th>\n",
       "      <td>Maruti Alto K10 VXI</td>\n",
       "      <td>8</td>\n",
       "      <td>5518.660000</td>\n",
       "      <td>2018</td>\n",
       "      <td>2100</td>\n",
       "      <td>Petrol</td>\n",
       "      <td>Manual</td>\n",
       "      <td>24.07</td>\n",
       "      <td>998</td>\n",
       "      <td>67.1</td>\n",
       "      <td>5.0</td>\n",
       "    </tr>\n",
       "    <tr>\n",
       "      <th>1856</th>\n",
       "      <td>Hyundai Grand i10 Sportz</td>\n",
       "      <td>8</td>\n",
       "      <td>7818.100000</td>\n",
       "      <td>2018</td>\n",
       "      <td>1800</td>\n",
       "      <td>Petrol</td>\n",
       "      <td>Manual</td>\n",
       "      <td>18.9</td>\n",
       "      <td>1197</td>\n",
       "      <td>82.0</td>\n",
       "      <td>5.0</td>\n",
       "    </tr>\n",
       "    <tr>\n",
       "      <th>5966</th>\n",
       "      <td>Maruti Wagon R VXI BS IV</td>\n",
       "      <td>5</td>\n",
       "      <td>7204.910000</td>\n",
       "      <td>2018</td>\n",
       "      <td>1048</td>\n",
       "      <td>Petrol</td>\n",
       "      <td>Manual</td>\n",
       "      <td>18.9</td>\n",
       "      <td>998</td>\n",
       "      <td>67.1</td>\n",
       "      <td>5.0</td>\n",
       "    </tr>\n",
       "    <tr>\n",
       "      <th>6214</th>\n",
       "      <td>Maruti Alto 800 2016-2019 LXI</td>\n",
       "      <td>9</td>\n",
       "      <td>4049.800909</td>\n",
       "      <td>2018</td>\n",
       "      <td>1001</td>\n",
       "      <td>Petrol</td>\n",
       "      <td>Manual</td>\n",
       "      <td>24.7</td>\n",
       "      <td>796</td>\n",
       "      <td>47.3</td>\n",
       "      <td>5.0</td>\n",
       "    </tr>\n",
       "  </tbody>\n",
       "</table>\n",
       "<p>2468 rows × 11 columns</p>\n",
       "</div>"
      ],
      "text/plain": [
       "                                       Name  Location         Price  Year  \\\n",
       "29      Toyota Innova 2.5 V Diesel 7-seater         9   6131.840000  2007   \n",
       "5834  Toyota Innova 2.5 G (Diesel) 8 Seater         6  12110.380000  2013   \n",
       "1101    Toyota Innova 2.5 V Diesel 7-seater         2  14103.230000  2011   \n",
       "4792             Toyota Fortuner 3.0 Diesel         2  16862.560000  2010   \n",
       "2988   Toyota Innova 2.5 G4 Diesel 8-seater         2   7818.100000  2005   \n",
       "...                                     ...       ...           ...   ...   \n",
       "4492                    Maruti Alto 800 LXI         8   4215.640000  2017   \n",
       "1362                    Maruti Alto K10 VXI         8   5518.660000  2018   \n",
       "1856               Hyundai Grand i10 Sportz         8   7818.100000  2018   \n",
       "5966               Maruti Wagon R VXI BS IV         5   7204.910000  2018   \n",
       "6214          Maruti Alto 800 2016-2019 LXI         9   4049.800909  2018   \n",
       "\n",
       "      Kilometers_Driven Fuel_Type Transmission Mileage Engine  Power  Seats  \n",
       "29               262000    Diesel       Manual    12.8   2494  102.0    7.0  \n",
       "5834             250000    Diesel       Manual   12.99   2494  100.6    8.0  \n",
       "1101             248000    Diesel       Manual    12.8   2494  102.0    7.0  \n",
       "4792             242000    Diesel       Manual    11.5   2982  171.0    7.0  \n",
       "2988             240000    Diesel       Manual    12.8   2494  102.0    8.0  \n",
       "...                 ...       ...          ...     ...    ...    ...    ...  \n",
       "4492               2196    Petrol       Manual   22.74    796   47.3    5.0  \n",
       "1362               2100    Petrol       Manual   24.07    998   67.1    5.0  \n",
       "1856               1800    Petrol       Manual    18.9   1197   82.0    5.0  \n",
       "5966               1048    Petrol       Manual    18.9    998   67.1    5.0  \n",
       "6214               1001    Petrol       Manual    24.7    796   47.3    5.0  \n",
       "\n",
       "[2468 rows x 11 columns]"
      ]
     },
     "execution_count": 107,
     "metadata": {},
     "output_type": "execute_result"
    }
   ],
   "source": [
    "df_raw.sort_values(by='Kilometers_Driven',ascending=False)"
   ]
  },
  {
   "cell_type": "code",
   "execution_count": 108,
   "id": "0c6e5e39",
   "metadata": {},
   "outputs": [
    {
     "data": {
      "text/plain": [
       "{'whiskers': [<matplotlib.lines.Line2D at 0x7ff8667ca320>,\n",
       "  <matplotlib.lines.Line2D at 0x7ff8667cbe20>],\n",
       " 'caps': [<matplotlib.lines.Line2D at 0x7ff8668ca020>,\n",
       "  <matplotlib.lines.Line2D at 0x7ff8668cbdc0>],\n",
       " 'boxes': [<matplotlib.lines.Line2D at 0x7ff8667cb970>],\n",
       " 'medians': [<matplotlib.lines.Line2D at 0x7ff8668c9ed0>],\n",
       " 'fliers': [<matplotlib.lines.Line2D at 0x7ff8668cafe0>],\n",
       " 'means': []}"
      ]
     },
     "execution_count": 108,
     "metadata": {},
     "output_type": "execute_result"
    },
    {
     "data": {
      "image/png": "[encoded data removed]",
      "text/plain": [
       "<Figure size 640x480 with 1 Axes>"
      ]
     },
     "metadata": {},
     "output_type": "display_data"
    }
   ],
   "source": [
    "plt.boxplot(df_raw['Kilometers_Driven'].dropna(), vert=False)"
   ]
  },
  {
   "cell_type": "markdown",
   "id": "4d140682",
   "metadata": {},
   "source": [
    "'Kilometers_Driven boxplot을 그려서 끝에 있는 9개의 데이터 삭제한 모델"
   ]
  },
  {
   "cell_type": "markdown",
   "id": "67bec110",
   "metadata": {},
   "source": [
    "### 범주형 변수 값 확인"
   ]
  },
  {
   "cell_type": "code",
   "execution_count": 110,
   "id": "d6cfbc5d",
   "metadata": {},
   "outputs": [
    {
     "data": {
      "text/plain": [
       "Diesel    1329\n",
       "Petrol    1121\n",
       "CNG         18\n",
       "Name: Fuel_Type, dtype: int64"
      ]
     },
     "execution_count": 110,
     "metadata": {},
     "output_type": "execute_result"
    }
   ],
   "source": [
    "# 범주형 변수 - Fuel_Type 빈도 확인 (결측값이 없으므로 이상치만 확인)\n",
    "\n",
    "df_raw.Fuel_Type.value_counts()"
   ]
  },
  {
   "cell_type": "code",
   "execution_count": 111,
   "id": "88f4b389",
   "metadata": {},
   "outputs": [
    {
     "data": {
      "text/plain": [
       "Manual       2064\n",
       "Automatic     404\n",
       "Name: Transmission, dtype: int64"
      ]
     },
     "execution_count": 111,
     "metadata": {},
     "output_type": "execute_result"
    }
   ],
   "source": [
    "# 범주형 변수 - Transmission 빈도 확인 (결측값이 없으므로 이상치만 확인)\n",
    "\n",
    "df_raw.Transmission.value_counts()"
   ]
  },
  {
   "cell_type": "code",
   "execution_count": 112,
   "id": "12cc873e",
   "metadata": {},
   "outputs": [
    {
     "data": {
      "text/html": [
       "<div>\n",
       "<style scoped>\n",
       "    .dataframe tbody tr th:only-of-type {\n",
       "        vertical-align: middle;\n",
       "    }\n",
       "\n",
       "    .dataframe tbody tr th {\n",
       "        vertical-align: top;\n",
       "    }\n",
       "\n",
       "    .dataframe thead th {\n",
       "        text-align: right;\n",
       "    }\n",
       "</style>\n",
       "<table border=\"1\" class=\"dataframe\">\n",
       "  <thead>\n",
       "    <tr style=\"text-align: right;\">\n",
       "      <th></th>\n",
       "      <th>Name</th>\n",
       "      <th>Location</th>\n",
       "      <th>Price</th>\n",
       "      <th>Year</th>\n",
       "      <th>Kilometers_Driven</th>\n",
       "      <th>Fuel_Type</th>\n",
       "      <th>Transmission</th>\n",
       "      <th>Mileage</th>\n",
       "      <th>Engine</th>\n",
       "      <th>Power</th>\n",
       "      <th>Seats</th>\n",
       "    </tr>\n",
       "  </thead>\n",
       "  <tbody>\n",
       "  </tbody>\n",
       "</table>\n",
       "</div>"
      ],
      "text/plain": [
       "Empty DataFrame\n",
       "Columns: [Name, Location, Price, Year, Kilometers_Driven, Fuel_Type, Transmission, Mileage, Engine, Power, Seats]\n",
       "Index: []"
      ]
     },
     "execution_count": 112,
     "metadata": {},
     "output_type": "execute_result"
    }
   ],
   "source": [
    "# 마일리지 변수의 null 값 확인\n",
    "\n",
    "df_raw[df_raw['Mileage'].isnull()]"
   ]
  },
  {
   "cell_type": "markdown",
   "id": "2e348def",
   "metadata": {},
   "source": [
    "-> 4446 행은 Engine 변수에서 72CC 라는 낮은 값을 갖고 있으므로 결측치 대체 대신 행 삭제\n",
    "\n",
    "-> 나머지 결측값을 채우려고 하니 고려해야할 요소가 많아 행 삭제"
   ]
  },
  {
   "cell_type": "code",
   "execution_count": 113,
   "id": "2808274c",
   "metadata": {},
   "outputs": [],
   "source": [
    "df_cleaned = df_raw.dropna(subset = ['Mileage','Engine', 'Power'], inplace=False)"
   ]
  },
  {
   "cell_type": "code",
   "execution_count": 114,
   "id": "e540b751",
   "metadata": {},
   "outputs": [
    {
     "data": {
      "text/plain": [
       "Name                 0\n",
       "Location             0\n",
       "Price                0\n",
       "Year                 0\n",
       "Kilometers_Driven    0\n",
       "Fuel_Type            0\n",
       "Transmission         0\n",
       "Mileage              0\n",
       "Engine               0\n",
       "Power                0\n",
       "Seats                0\n",
       "dtype: int64"
      ]
     },
     "execution_count": 114,
     "metadata": {},
     "output_type": "execute_result"
    }
   ],
   "source": [
    "#지워졌는지 확인용\n",
    "\n",
    "df_cleaned.isnull().sum()"
   ]
  },
  {
   "cell_type": "code",
   "execution_count": 115,
   "id": "240bcb74",
   "metadata": {},
   "outputs": [
    {
     "data": {
      "text/html": [
       "<div>\n",
       "<style scoped>\n",
       "    .dataframe tbody tr th:only-of-type {\n",
       "        vertical-align: middle;\n",
       "    }\n",
       "\n",
       "    .dataframe tbody tr th {\n",
       "        vertical-align: top;\n",
       "    }\n",
       "\n",
       "    .dataframe thead th {\n",
       "        text-align: right;\n",
       "    }\n",
       "</style>\n",
       "<table border=\"1\" class=\"dataframe\">\n",
       "  <thead>\n",
       "    <tr style=\"text-align: right;\">\n",
       "      <th></th>\n",
       "      <th>Name</th>\n",
       "      <th>Location</th>\n",
       "      <th>Price</th>\n",
       "      <th>Year</th>\n",
       "      <th>Kilometers_Driven</th>\n",
       "      <th>Fuel_Type</th>\n",
       "      <th>Transmission</th>\n",
       "      <th>Mileage</th>\n",
       "      <th>Engine</th>\n",
       "      <th>Power</th>\n",
       "      <th>Seats</th>\n",
       "    </tr>\n",
       "  </thead>\n",
       "  <tbody>\n",
       "    <tr>\n",
       "      <th>0</th>\n",
       "      <td>Maruti Wagon R LXI CNG</td>\n",
       "      <td>9</td>\n",
       "      <td>2682.68</td>\n",
       "      <td>2010</td>\n",
       "      <td>72000</td>\n",
       "      <td>CNG</td>\n",
       "      <td>Manual</td>\n",
       "      <td>26.6</td>\n",
       "      <td>998</td>\n",
       "      <td>58.16</td>\n",
       "      <td>5.0</td>\n",
       "    </tr>\n",
       "    <tr>\n",
       "      <th>1</th>\n",
       "      <td>Hyundai Creta 1.6 CRDi SX Option</td>\n",
       "      <td>10</td>\n",
       "      <td>19162.00</td>\n",
       "      <td>2015</td>\n",
       "      <td>41000</td>\n",
       "      <td>Diesel</td>\n",
       "      <td>Manual</td>\n",
       "      <td>19.67</td>\n",
       "      <td>1582</td>\n",
       "      <td>126.20</td>\n",
       "      <td>5.0</td>\n",
       "    </tr>\n",
       "    <tr>\n",
       "      <th>3</th>\n",
       "      <td>Maruti Ertiga VDI</td>\n",
       "      <td>2</td>\n",
       "      <td>9197.76</td>\n",
       "      <td>2012</td>\n",
       "      <td>87000</td>\n",
       "      <td>Diesel</td>\n",
       "      <td>Manual</td>\n",
       "      <td>20.77</td>\n",
       "      <td>1248</td>\n",
       "      <td>88.76</td>\n",
       "      <td>7.0</td>\n",
       "    </tr>\n",
       "    <tr>\n",
       "      <th>6</th>\n",
       "      <td>Nissan Micra Diesel XV</td>\n",
       "      <td>6</td>\n",
       "      <td>5365.36</td>\n",
       "      <td>2013</td>\n",
       "      <td>86999</td>\n",
       "      <td>Diesel</td>\n",
       "      <td>Manual</td>\n",
       "      <td>23.08</td>\n",
       "      <td>1461</td>\n",
       "      <td>63.10</td>\n",
       "      <td>5.0</td>\n",
       "    </tr>\n",
       "    <tr>\n",
       "      <th>12</th>\n",
       "      <td>Maruti Swift VDI BSIV</td>\n",
       "      <td>6</td>\n",
       "      <td>8584.58</td>\n",
       "      <td>2015</td>\n",
       "      <td>64424</td>\n",
       "      <td>Diesel</td>\n",
       "      <td>Manual</td>\n",
       "      <td>25.2</td>\n",
       "      <td>1248</td>\n",
       "      <td>74.00</td>\n",
       "      <td>5.0</td>\n",
       "    </tr>\n",
       "  </tbody>\n",
       "</table>\n",
       "</div>"
      ],
      "text/plain": [
       "                                Name  Location     Price  Year  \\\n",
       "0             Maruti Wagon R LXI CNG         9   2682.68  2010   \n",
       "1   Hyundai Creta 1.6 CRDi SX Option        10  19162.00  2015   \n",
       "3                  Maruti Ertiga VDI         2   9197.76  2012   \n",
       "6             Nissan Micra Diesel XV         6   5365.36  2013   \n",
       "12             Maruti Swift VDI BSIV         6   8584.58  2015   \n",
       "\n",
       "    Kilometers_Driven Fuel_Type Transmission Mileage Engine   Power  Seats  \n",
       "0               72000       CNG       Manual    26.6    998   58.16    5.0  \n",
       "1               41000    Diesel       Manual   19.67   1582  126.20    5.0  \n",
       "3               87000    Diesel       Manual   20.77   1248   88.76    7.0  \n",
       "6               86999    Diesel       Manual   23.08   1461   63.10    5.0  \n",
       "12              64424    Diesel       Manual    25.2   1248   74.00    5.0  "
      ]
     },
     "execution_count": 115,
     "metadata": {},
     "output_type": "execute_result"
    }
   ],
   "source": [
    "df_cleaned.head()"
   ]
  },
  {
   "cell_type": "code",
   "execution_count": 116,
   "id": "60a684bc",
   "metadata": {},
   "outputs": [],
   "source": [
    "# 마일리지 변수 타입 변경\n",
    "\n",
    "df_cleaned['Mileage'] = df_cleaned['Mileage'].astype('float64')"
   ]
  },
  {
   "cell_type": "code",
   "execution_count": 117,
   "id": "b4ce95b7",
   "metadata": {},
   "outputs": [
    {
     "data": {
      "text/plain": [
       "Name                 0\n",
       "Location             0\n",
       "Price                0\n",
       "Year                 0\n",
       "Kilometers_Driven    0\n",
       "Fuel_Type            0\n",
       "Transmission         0\n",
       "Mileage              0\n",
       "Engine               0\n",
       "Power                0\n",
       "Seats                0\n",
       "dtype: int64"
      ]
     },
     "execution_count": 117,
     "metadata": {},
     "output_type": "execute_result"
    }
   ],
   "source": [
    "df_cleaned.isnull().sum()"
   ]
  },
  {
   "cell_type": "code",
   "execution_count": 118,
   "id": "ab39a895",
   "metadata": {},
   "outputs": [
    {
     "data": {
      "text/html": [
       "<div>\n",
       "<style scoped>\n",
       "    .dataframe tbody tr th:only-of-type {\n",
       "        vertical-align: middle;\n",
       "    }\n",
       "\n",
       "    .dataframe tbody tr th {\n",
       "        vertical-align: top;\n",
       "    }\n",
       "\n",
       "    .dataframe thead th {\n",
       "        text-align: right;\n",
       "    }\n",
       "</style>\n",
       "<table border=\"1\" class=\"dataframe\">\n",
       "  <thead>\n",
       "    <tr style=\"text-align: right;\">\n",
       "      <th></th>\n",
       "      <th>Name</th>\n",
       "      <th>Location</th>\n",
       "      <th>Price</th>\n",
       "      <th>Year</th>\n",
       "      <th>Kilometers_Driven</th>\n",
       "      <th>Fuel_Type</th>\n",
       "      <th>Transmission</th>\n",
       "      <th>Mileage</th>\n",
       "      <th>Engine</th>\n",
       "      <th>Power</th>\n",
       "      <th>Seats</th>\n",
       "    </tr>\n",
       "  </thead>\n",
       "  <tbody>\n",
       "    <tr>\n",
       "      <th>0</th>\n",
       "      <td>Maruti Wagon R LXI CNG</td>\n",
       "      <td>9</td>\n",
       "      <td>2682.68</td>\n",
       "      <td>2010</td>\n",
       "      <td>72000</td>\n",
       "      <td>CNG</td>\n",
       "      <td>Manual</td>\n",
       "      <td>26.60</td>\n",
       "      <td>998</td>\n",
       "      <td>58.16</td>\n",
       "      <td>5.0</td>\n",
       "    </tr>\n",
       "    <tr>\n",
       "      <th>1</th>\n",
       "      <td>Hyundai Creta 1.6 CRDi SX Option</td>\n",
       "      <td>10</td>\n",
       "      <td>19162.00</td>\n",
       "      <td>2015</td>\n",
       "      <td>41000</td>\n",
       "      <td>Diesel</td>\n",
       "      <td>Manual</td>\n",
       "      <td>19.67</td>\n",
       "      <td>1582</td>\n",
       "      <td>126.20</td>\n",
       "      <td>5.0</td>\n",
       "    </tr>\n",
       "    <tr>\n",
       "      <th>3</th>\n",
       "      <td>Maruti Ertiga VDI</td>\n",
       "      <td>2</td>\n",
       "      <td>9197.76</td>\n",
       "      <td>2012</td>\n",
       "      <td>87000</td>\n",
       "      <td>Diesel</td>\n",
       "      <td>Manual</td>\n",
       "      <td>20.77</td>\n",
       "      <td>1248</td>\n",
       "      <td>88.76</td>\n",
       "      <td>7.0</td>\n",
       "    </tr>\n",
       "    <tr>\n",
       "      <th>6</th>\n",
       "      <td>Nissan Micra Diesel XV</td>\n",
       "      <td>6</td>\n",
       "      <td>5365.36</td>\n",
       "      <td>2013</td>\n",
       "      <td>86999</td>\n",
       "      <td>Diesel</td>\n",
       "      <td>Manual</td>\n",
       "      <td>23.08</td>\n",
       "      <td>1461</td>\n",
       "      <td>63.10</td>\n",
       "      <td>5.0</td>\n",
       "    </tr>\n",
       "    <tr>\n",
       "      <th>12</th>\n",
       "      <td>Maruti Swift VDI BSIV</td>\n",
       "      <td>6</td>\n",
       "      <td>8584.58</td>\n",
       "      <td>2015</td>\n",
       "      <td>64424</td>\n",
       "      <td>Diesel</td>\n",
       "      <td>Manual</td>\n",
       "      <td>25.20</td>\n",
       "      <td>1248</td>\n",
       "      <td>74.00</td>\n",
       "      <td>5.0</td>\n",
       "    </tr>\n",
       "  </tbody>\n",
       "</table>\n",
       "</div>"
      ],
      "text/plain": [
       "                                Name  Location     Price  Year  \\\n",
       "0             Maruti Wagon R LXI CNG         9   2682.68  2010   \n",
       "1   Hyundai Creta 1.6 CRDi SX Option        10  19162.00  2015   \n",
       "3                  Maruti Ertiga VDI         2   9197.76  2012   \n",
       "6             Nissan Micra Diesel XV         6   5365.36  2013   \n",
       "12             Maruti Swift VDI BSIV         6   8584.58  2015   \n",
       "\n",
       "    Kilometers_Driven Fuel_Type Transmission  Mileage Engine   Power  Seats  \n",
       "0               72000       CNG       Manual    26.60    998   58.16    5.0  \n",
       "1               41000    Diesel       Manual    19.67   1582  126.20    5.0  \n",
       "3               87000    Diesel       Manual    20.77   1248   88.76    7.0  \n",
       "6               86999    Diesel       Manual    23.08   1461   63.10    5.0  \n",
       "12              64424    Diesel       Manual    25.20   1248   74.00    5.0  "
      ]
     },
     "execution_count": 118,
     "metadata": {},
     "output_type": "execute_result"
    }
   ],
   "source": [
    "df_cleaned.head()"
   ]
  },
  {
   "cell_type": "markdown",
   "id": "583cc0b6",
   "metadata": {},
   "source": [
    "### 마일리지 변수 이상치"
   ]
  },
  {
   "cell_type": "code",
   "execution_count": 119,
   "id": "06b4e982",
   "metadata": {},
   "outputs": [
    {
     "data": {
      "text/plain": [
       "<Axes: ylabel='Mileage'>"
      ]
     },
     "execution_count": 119,
     "metadata": {},
     "output_type": "execute_result"
    },
    {
     "data": {
      "image/png": "[encoded data removed]",
      "text/plain": [
       "<Figure size 1000x600 with 1 Axes>"
      ]
     },
     "metadata": {},
     "output_type": "display_data"
    }
   ],
   "source": [
    "# 마일리지 이상치 확인\n",
    "\n",
    "plt.figure(figsize=(10, 6))\n",
    "sns.boxplot(df_cleaned, y='Mileage')"
   ]
  },
  {
   "cell_type": "code",
   "execution_count": 120,
   "id": "c9d9347f",
   "metadata": {},
   "outputs": [
    {
     "data": {
      "text/html": [
       "<div>\n",
       "<style scoped>\n",
       "    .dataframe tbody tr th:only-of-type {\n",
       "        vertical-align: middle;\n",
       "    }\n",
       "\n",
       "    .dataframe tbody tr th {\n",
       "        vertical-align: top;\n",
       "    }\n",
       "\n",
       "    .dataframe thead th {\n",
       "        text-align: right;\n",
       "    }\n",
       "</style>\n",
       "<table border=\"1\" class=\"dataframe\">\n",
       "  <thead>\n",
       "    <tr style=\"text-align: right;\">\n",
       "      <th></th>\n",
       "      <th>Location</th>\n",
       "      <th>Price</th>\n",
       "      <th>Year</th>\n",
       "      <th>Kilometers_Driven</th>\n",
       "      <th>Mileage</th>\n",
       "      <th>Power</th>\n",
       "      <th>Seats</th>\n",
       "    </tr>\n",
       "  </thead>\n",
       "  <tbody>\n",
       "    <tr>\n",
       "      <th>count</th>\n",
       "      <td>2468.000000</td>\n",
       "      <td>2468.000000</td>\n",
       "      <td>2468.000000</td>\n",
       "      <td>2468.000000</td>\n",
       "      <td>2468.000000</td>\n",
       "      <td>2468.000000</td>\n",
       "      <td>2468.000000</td>\n",
       "    </tr>\n",
       "    <tr>\n",
       "      <th>mean</th>\n",
       "      <td>5.551864</td>\n",
       "      <td>11440.964925</td>\n",
       "      <td>2013.448947</td>\n",
       "      <td>58768.514182</td>\n",
       "      <td>19.367095</td>\n",
       "      <td>100.796524</td>\n",
       "      <td>5.293760</td>\n",
       "    </tr>\n",
       "    <tr>\n",
       "      <th>std</th>\n",
       "      <td>2.893906</td>\n",
       "      <td>11060.986009</td>\n",
       "      <td>2.519045</td>\n",
       "      <td>31659.574059</td>\n",
       "      <td>3.632696</td>\n",
       "      <td>38.826382</td>\n",
       "      <td>0.739204</td>\n",
       "    </tr>\n",
       "    <tr>\n",
       "      <th>min</th>\n",
       "      <td>0.000000</td>\n",
       "      <td>919.780000</td>\n",
       "      <td>2001.000000</td>\n",
       "      <td>1001.000000</td>\n",
       "      <td>11.180000</td>\n",
       "      <td>46.300000</td>\n",
       "      <td>5.000000</td>\n",
       "    </tr>\n",
       "    <tr>\n",
       "      <th>25%</th>\n",
       "      <td>3.000000</td>\n",
       "      <td>5212.060000</td>\n",
       "      <td>2012.000000</td>\n",
       "      <td>37285.250000</td>\n",
       "      <td>17.000000</td>\n",
       "      <td>74.000000</td>\n",
       "      <td>5.000000</td>\n",
       "    </tr>\n",
       "    <tr>\n",
       "      <th>50%</th>\n",
       "      <td>5.000000</td>\n",
       "      <td>7797.658611</td>\n",
       "      <td>2014.000000</td>\n",
       "      <td>55738.000000</td>\n",
       "      <td>19.270000</td>\n",
       "      <td>86.700000</td>\n",
       "      <td>5.000000</td>\n",
       "    </tr>\n",
       "    <tr>\n",
       "      <th>75%</th>\n",
       "      <td>8.000000</td>\n",
       "      <td>12646.920000</td>\n",
       "      <td>2015.000000</td>\n",
       "      <td>72363.250000</td>\n",
       "      <td>22.320000</td>\n",
       "      <td>121.300000</td>\n",
       "      <td>5.000000</td>\n",
       "    </tr>\n",
       "    <tr>\n",
       "      <th>max</th>\n",
       "      <td>10.000000</td>\n",
       "      <td>107966.370000</td>\n",
       "      <td>2019.000000</td>\n",
       "      <td>262000.000000</td>\n",
       "      <td>28.400000</td>\n",
       "      <td>241.400000</td>\n",
       "      <td>8.000000</td>\n",
       "    </tr>\n",
       "  </tbody>\n",
       "</table>\n",
       "</div>"
      ],
      "text/plain": [
       "          Location          Price         Year  Kilometers_Driven  \\\n",
       "count  2468.000000    2468.000000  2468.000000        2468.000000   \n",
       "mean      5.551864   11440.964925  2013.448947       58768.514182   \n",
       "std       2.893906   11060.986009     2.519045       31659.574059   \n",
       "min       0.000000     919.780000  2001.000000        1001.000000   \n",
       "25%       3.000000    5212.060000  2012.000000       37285.250000   \n",
       "50%       5.000000    7797.658611  2014.000000       55738.000000   \n",
       "75%       8.000000   12646.920000  2015.000000       72363.250000   \n",
       "max      10.000000  107966.370000  2019.000000      262000.000000   \n",
       "\n",
       "           Mileage        Power        Seats  \n",
       "count  2468.000000  2468.000000  2468.000000  \n",
       "mean     19.367095   100.796524     5.293760  \n",
       "std       3.632696    38.826382     0.739204  \n",
       "min      11.180000    46.300000     5.000000  \n",
       "25%      17.000000    74.000000     5.000000  \n",
       "50%      19.270000    86.700000     5.000000  \n",
       "75%      22.320000   121.300000     5.000000  \n",
       "max      28.400000   241.400000     8.000000  "
      ]
     },
     "execution_count": 120,
     "metadata": {},
     "output_type": "execute_result"
    }
   ],
   "source": [
    "df_cleaned.describe()"
   ]
  },
  {
   "cell_type": "code",
   "execution_count": 121,
   "id": "137c5786",
   "metadata": {},
   "outputs": [
    {
     "name": "stdout",
     "output_type": "stream",
     "text": [
      "박스 최솟값 : 9.0200, 박스 최댓값 : 30.3000\n"
     ]
    }
   ],
   "source": [
    "Q1_m = np.percentile(df_cleaned['Mileage'].dropna(), 25)\n",
    "Q3_m = np.percentile(df_cleaned['Mileage'].dropna(), 75)\n",
    "IQR_m = Q3_m - Q1_m\n",
    "\n",
    "# 수염의 경계값 계산\n",
    "lower_bound = Q1_m - 1.5 * IQR_m\n",
    "upper_bound = Q3_m + 1.5 * IQR_m\n",
    "print(\"박스 최솟값 : %.4f, 박스 최댓값 : %.4f\"% (lower_bound, upper_bound))"
   ]
  },
  {
   "cell_type": "code",
   "execution_count": 122,
   "id": "6df4a701",
   "metadata": {},
   "outputs": [
    {
     "data": {
      "text/html": [
       "<div>\n",
       "<style scoped>\n",
       "    .dataframe tbody tr th:only-of-type {\n",
       "        vertical-align: middle;\n",
       "    }\n",
       "\n",
       "    .dataframe tbody tr th {\n",
       "        vertical-align: top;\n",
       "    }\n",
       "\n",
       "    .dataframe thead th {\n",
       "        text-align: right;\n",
       "    }\n",
       "</style>\n",
       "<table border=\"1\" class=\"dataframe\">\n",
       "  <thead>\n",
       "    <tr style=\"text-align: right;\">\n",
       "      <th></th>\n",
       "      <th>Name</th>\n",
       "      <th>Location</th>\n",
       "      <th>Price</th>\n",
       "      <th>Year</th>\n",
       "      <th>Kilometers_Driven</th>\n",
       "      <th>Fuel_Type</th>\n",
       "      <th>Transmission</th>\n",
       "      <th>Mileage</th>\n",
       "      <th>Engine</th>\n",
       "      <th>Power</th>\n",
       "      <th>Seats</th>\n",
       "    </tr>\n",
       "  </thead>\n",
       "  <tbody>\n",
       "  </tbody>\n",
       "</table>\n",
       "</div>"
      ],
      "text/plain": [
       "Empty DataFrame\n",
       "Columns: [Name, Location, Price, Year, Kilometers_Driven, Fuel_Type, Transmission, Mileage, Engine, Power, Seats]\n",
       "Index: []"
      ]
     },
     "execution_count": 122,
     "metadata": {},
     "output_type": "execute_result"
    }
   ],
   "source": [
    "# 이상치 값 확인\n",
    "\n",
    "mileage_na = df_cleaned.query('Mileage > 29.86 | Mileage < 6.5')\n",
    "mileage_na.head()"
   ]
  },
  {
   "cell_type": "code",
   "execution_count": 123,
   "id": "c85a652d",
   "metadata": {},
   "outputs": [
    {
     "data": {
      "text/plain": [
       "(0, array([], dtype=object))"
      ]
     },
     "execution_count": 123,
     "metadata": {},
     "output_type": "execute_result"
    }
   ],
   "source": [
    "# 이상치 행에 있는 Name 변수들 뽑기\n",
    "\n",
    "mile_name = mileage_na['Name'].unique()\n",
    "len(mile_name), mile_name"
   ]
  },
  {
   "cell_type": "code",
   "execution_count": 124,
   "id": "412d9750",
   "metadata": {},
   "outputs": [
    {
     "data": {
      "text/plain": [
       "array(['Maruti Wagon R LXI CNG', 'Hyundai Creta 1.6 CRDi SX Option',\n",
       "       'Maruti Ertiga VDI', 'Nissan Micra Diesel XV',\n",
       "       'Maruti Swift VDI BSIV', 'Honda Amaze S i-Dtech',\n",
       "       'BMW 3 Series 320d', 'Hyundai i20 1.2 Magna',\n",
       "       'Maruti Alto K10 2010-2014 VXI',\n",
       "       'Toyota Innova 2.5 V Diesel 7-seater',\n",
       "       'Mahindra Ssangyong Rexton RX7',\n",
       "       'Volkswagen Polo Diesel Trendline 1.2L', 'Maruti Alto LXi',\n",
       "       'Audi A4 2.0 TDI 177 Bhp Premium Plus', 'Maruti Swift VDI',\n",
       "       'Hyundai Grand i10 Sportz', 'Renault KWID RXT',\n",
       "       'Ford Figo Diesel Titanium', 'Audi A4 2.0 TDI Multitronic',\n",
       "       'Mahindra XUV500 W8 4WD', 'Ford Figo Diesel ZXI',\n",
       "       'Maruti Ritz VDi', 'Hyundai i10 Sportz 1.2',\n",
       "       'Toyota Fortuner 4x2 Manual',\n",
       "       'Ford Ecosport 1.5 DV5 MT Titanium Optional',\n",
       "       'Mahindra XUV500 W8 2WD', 'Volkswagen Polo Diesel Highline 1.2L',\n",
       "       'Maruti Wagon R VXI BS IV', 'Hyundai i20 Asta 1.2',\n",
       "       'Toyota Innova Crysta 2.8 ZX AT', 'BMW 3 Series 320d Luxury Line',\n",
       "       'Toyota Innova 2.5 VX (Diesel) 7 Seater',\n",
       "       'Maruti Wagon R LXI BS IV', 'Maruti Alto K10 VXI',\n",
       "       'Maruti Alto LXi BSIII',\n",
       "       'Mercedes-Benz New C-Class C 220 CDI Avantgarde',\n",
       "       'Toyota Fortuner 3.0 Diesel', 'BMW 3 Series Luxury Line',\n",
       "       'Honda Brio S MT', 'Hyundai i10 Magna 1.2',\n",
       "       'Audi A6 2011-2015 2.0 TDI Premium Plus',\n",
       "       'Hyundai i20 Asta 1.4 CRDi', 'Skoda Superb Elegance 1.8 TSI AT',\n",
       "       'BMW 5 Series 520d Luxury Line', 'Hyundai Verna 1.6 SX',\n",
       "       'Maruti Ertiga ZDI', 'Hyundai i10 Magna',\n",
       "       'Renault Duster 85PS Diesel RxL',\n",
       "       'Maruti Vitara Brezza ZDi Plus Dual Tone',\n",
       "       'Hyundai i20 Asta Option 1.2', 'Honda Amaze VX i-DTEC',\n",
       "       'Maruti Wagon R LXI',\n",
       "       'Mercedes-Benz New C-Class C 220d Avantgarde Edition C',\n",
       "       'Maruti Wagon R VXI', 'Chevrolet Beat LT',\n",
       "       'Volkswagen Polo Diesel Comfortline 1.2L', 'Maruti Swift ZDi',\n",
       "       'Ford Figo Diesel EXI', 'Hyundai i20 Sportz 1.4 CRDi',\n",
       "       'Honda City i VTEC V', 'BMW X1 sDrive20d', 'Hyundai i10 Era',\n",
       "       'Maruti Swift VXI BSIV', 'Hyundai i20 1.2 Sportz',\n",
       "       'Hyundai Creta 1.6 CRDi SX', 'Maruti A-Star Vxi',\n",
       "       'Hyundai i10 Sportz', 'Maruti Alto 800 LXI', 'Honda City 1.5 S MT',\n",
       "       'Hyundai Verna 1.6 SX VTVT (O)',\n",
       "       'Volkswagen Vento Diesel Highline', 'Maruti Celerio VXI AT',\n",
       "       'Maruti Swift Dzire VDi', 'Honda City ZX GXi',\n",
       "       'Volkswagen Polo Petrol Comfortline 1.2L', 'Honda City 1.5 V MT',\n",
       "       'Hyundai EON D Lite Plus', 'Maruti Swift Dzire Tour LDI',\n",
       "       'Maruti Alto 800 2016-2019 LXI', 'Hyundai Grand i10 AT Asta',\n",
       "       'Audi Q7 3.0 TDI Quattro Premium Plus', 'Honda Amaze S i-Vtech',\n",
       "       'Maruti Ritz LDi', 'Hyundai Verna 1.6 SX VTVT',\n",
       "       'Mercedes-Benz New C-Class 220 CDI AT', 'Hyundai Accent GLE',\n",
       "       'Hyundai Creta 1.6 SX Plus Dual Tone Petrol',\n",
       "       'Hyundai EON Era Plus',\n",
       "       'Hyundai Creta 1.6 SX Plus Petrol Automatic',\n",
       "       'Renault Duster 110PS Diesel RxL',\n",
       "       'Ford Ecosport 1.5 DV5 MT Titanium',\n",
       "       'Hyundai Grand i10 CRDi Magna', 'Hyundai Santro Xing GLS',\n",
       "       'Hyundai Creta 1.6 CRDi AT SX Plus', 'Maruti Ertiga VXI',\n",
       "       'Chevrolet Beat LS', 'Renault Duster 110PS Diesel RxZ',\n",
       "       'Toyota Etios G', 'Maruti Celerio VXI', 'Maruti Swift VXI',\n",
       "       'Honda City i VTEC CVT VX', 'Maruti Swift Dzire VXi',\n",
       "       'Mahindra XUV500 W6 2WD', 'Toyota Etios Liva GD',\n",
       "       'Volkswagen Polo 1.5 TDI Highline', 'Jaguar XF 2.2 Litre Luxury',\n",
       "       'Maruti Swift Dzire VDI', 'Hyundai i20 1.2 Spotz',\n",
       "       'Toyota Fortuner 4x2 AT', 'Mahindra XUV500 W10 2WD',\n",
       "       'Hyundai Verna 1.6 SX CRDi (O)', 'Maruti Vitara Brezza ZDi',\n",
       "       'Honda City V MT', 'BMW 5 Series 2013-2017 520d Luxury Line',\n",
       "       'Hyundai Grand i10 CRDi Sportz',\n",
       "       'Volkswagen Polo 1.2 MPI Highline',\n",
       "       'Ford EcoSport 1.5 TDCi Titanium', 'Hyundai Grand i10 Asta',\n",
       "       'Mercedes-Benz E-Class 2015-2017 E250 CDI Avantgarde',\n",
       "       'Maruti Swift Dzire VXI', 'Volkswagen Vento Petrol Highline',\n",
       "       'Chevrolet Cruze LTZ', 'Toyota Innova 2.5 V Diesel 8-seater',\n",
       "       'Volkswagen Polo GT TSI', 'Audi A4 2.0 TDI',\n",
       "       'Honda City i DTEC VX', 'Volkswagen Polo Petrol Highline 1.2L',\n",
       "       'Hyundai Elantra CRDi SX', 'Hyundai Grand i10 Asta Option',\n",
       "       'Toyota Innova 2.5 G (Diesel) 8 Seater', 'Maruti Swift Dzire LDI',\n",
       "       'Hyundai Grand i10 1.2 Kappa Sportz', 'Ford Figo Petrol ZXI',\n",
       "       'Honda City i DTEC SV', 'Honda City i VTEC SV',\n",
       "       'Hyundai i20 Sportz 1.2', 'Volkswagen Vento 1.5 TDI Highline',\n",
       "       'Hyundai i20 Magna', 'Toyota Innova 2.5 G4 Diesel 8-seater'],\n",
       "      dtype=object)"
      ]
     },
     "execution_count": 124,
     "metadata": {},
     "output_type": "execute_result"
    }
   ],
   "source": [
    "# Name 변수에 있는 범주값 확인\n",
    "\n",
    "unique_categories = df_raw['Name'].unique()\n",
    "unique_categories"
   ]
  },
  {
   "cell_type": "code",
   "execution_count": 125,
   "id": "202897e9",
   "metadata": {},
   "outputs": [
    {
     "data": {
      "text/html": [
       "<div>\n",
       "<style scoped>\n",
       "    .dataframe tbody tr th:only-of-type {\n",
       "        vertical-align: middle;\n",
       "    }\n",
       "\n",
       "    .dataframe tbody tr th {\n",
       "        vertical-align: top;\n",
       "    }\n",
       "\n",
       "    .dataframe thead th {\n",
       "        text-align: right;\n",
       "    }\n",
       "</style>\n",
       "<table border=\"1\" class=\"dataframe\">\n",
       "  <thead>\n",
       "    <tr style=\"text-align: right;\">\n",
       "      <th></th>\n",
       "      <th>Name</th>\n",
       "      <th>Location</th>\n",
       "      <th>Price</th>\n",
       "      <th>Year</th>\n",
       "      <th>Kilometers_Driven</th>\n",
       "      <th>Fuel_Type</th>\n",
       "      <th>Transmission</th>\n",
       "      <th>Mileage</th>\n",
       "      <th>Engine</th>\n",
       "      <th>Power</th>\n",
       "      <th>Seats</th>\n",
       "      <th>index_v</th>\n",
       "    </tr>\n",
       "  </thead>\n",
       "  <tbody>\n",
       "  </tbody>\n",
       "</table>\n",
       "</div>"
      ],
      "text/plain": [
       "Empty DataFrame\n",
       "Columns: [Name, Location, Price, Year, Kilometers_Driven, Fuel_Type, Transmission, Mileage, Engine, Power, Seats, index_v]\n",
       "Index: []"
      ]
     },
     "execution_count": 125,
     "metadata": {},
     "output_type": "execute_result"
    }
   ],
   "source": [
    "# 인덱스 활용하고자 인덱스 변수 생성\n",
    "\n",
    "mileage_na['index_v'] = mileage_na.index\n",
    "mileage_na.head()"
   ]
  },
  {
   "cell_type": "code",
   "execution_count": 126,
   "id": "a6700f17",
   "metadata": {},
   "outputs": [
    {
     "name": "stdout",
     "output_type": "stream",
     "text": [
      "{'Audi A4 2.0 TDI': 16.55, 'Audi A4 2.0 TDI 177 Bhp Premium Plus': 17.11, 'Audi A4 2.0 TDI Multitronic': 16.55, 'Audi A6 2011-2015 2.0 TDI Premium Plus': 17.68, 'Audi Q7 3.0 TDI Quattro Premium Plus': 12.07, 'BMW 3 Series 320d': 18.563913043478262, 'BMW 3 Series 320d Luxury Line': 20.658, 'BMW 3 Series Luxury Line': 21.76, 'BMW 5 Series 2013-2017 520d Luxury Line': 18.12, 'BMW 5 Series 520d Luxury Line': 22.48, 'BMW X1 sDrive20d': 17.05, 'Chevrolet Beat LS': 18.6, 'Chevrolet Beat LT': 18.44, 'Chevrolet Cruze LTZ': 17.853846153846153, 'Ford EcoSport 1.5 TDCi Titanium': 22.77, 'Ford Ecosport 1.5 DV5 MT Titanium': 22.7, 'Ford Ecosport 1.5 DV5 MT Titanium Optional': 22.7, 'Ford Figo Diesel EXI': 20.0, 'Ford Figo Diesel Titanium': 20.0, 'Ford Figo Diesel ZXI': 20.0, 'Ford Figo Petrol ZXI': 15.6, 'Honda Amaze S i-Dtech': 25.8, 'Honda Amaze S i-Vtech': 18.0, 'Honda Amaze VX i-DTEC': 25.800000000000004, 'Honda Brio S MT': 19.4, 'Honda City 1.5 S MT': 17.0, 'Honda City 1.5 V MT': 17.0, 'Honda City V MT': 16.8, 'Honda City ZX GXi': 17.7, 'Honda City i DTEC SV': 26.0, 'Honda City i DTEC VX': 25.1, 'Honda City i VTEC CVT VX': 18.0, 'Honda City i VTEC SV': 17.6, 'Honda City i VTEC V': 17.613333333333333, 'Hyundai Accent GLE': 13.199999999999998, 'Hyundai Creta 1.6 CRDi AT SX Plus': 17.01, 'Hyundai Creta 1.6 CRDi SX': 19.67, 'Hyundai Creta 1.6 CRDi SX Option': 19.67, 'Hyundai Creta 1.6 SX Plus Dual Tone Petrol': 15.29, 'Hyundai Creta 1.6 SX Plus Petrol Automatic': 13.0, 'Hyundai EON D Lite Plus': 21.1, 'Hyundai EON Era Plus': 21.1, 'Hyundai Elantra CRDi SX': 22.7, 'Hyundai Grand i10 1.2 Kappa Sportz': 18.9, 'Hyundai Grand i10 AT Asta': 18.9, 'Hyundai Grand i10 Asta': 18.9, 'Hyundai Grand i10 Asta Option': 18.9, 'Hyundai Grand i10 CRDi Magna': 24.0, 'Hyundai Grand i10 CRDi Sportz': 24.0, 'Hyundai Grand i10 Sportz': 18.9, 'Hyundai Santro Xing GLS': 17.92, 'Hyundai Verna 1.6 SX': 22.32, 'Hyundai Verna 1.6 SX CRDi (O)': 22.32, 'Hyundai Verna 1.6 SX VTVT': 17.01, 'Hyundai Verna 1.6 SX VTVT (O)': 17.1, 'Hyundai i10 Era': 19.81, 'Hyundai i10 Magna': 20.36, 'Hyundai i10 Magna 1.2': 20.36, 'Hyundai i10 Sportz': 20.36, 'Hyundai i10 Sportz 1.2': 20.36, 'Hyundai i20 1.2 Magna': 18.5, 'Hyundai i20 1.2 Sportz': 17.0, 'Hyundai i20 1.2 Spotz': 18.6, 'Hyundai i20 Asta 1.2': 18.584615384615386, 'Hyundai i20 Asta 1.4 CRDi': 21.95384615384615, 'Hyundai i20 Asta Option 1.2': 18.6, 'Hyundai i20 Magna': 18.5, 'Hyundai i20 Sportz 1.2': 18.573684210526316, 'Hyundai i20 Sportz 1.4 CRDi': 22.19538461538461, 'Jaguar XF 2.2 Litre Luxury': 16.36, 'Mahindra Ssangyong Rexton RX7': 11.18, 'Mahindra XUV500 W10 2WD': 16.0, 'Mahindra XUV500 W6 2WD': 15.415000000000001, 'Mahindra XUV500 W8 2WD': 15.394545454545455, 'Mahindra XUV500 W8 4WD': 15.299999999999999, 'Maruti A-Star Vxi': 19.0, 'Maruti Alto 800 2016-2019 LXI': 24.7, 'Maruti Alto 800 LXI': 22.74, 'Maruti Alto K10 2010-2014 VXI': 20.919999999999998, 'Maruti Alto K10 VXI': 24.07, 'Maruti Alto LXi': 19.7, 'Maruti Alto LXi BSIII': 19.7, 'Maruti Celerio VXI': 23.1, 'Maruti Celerio VXI AT': 23.1, 'Maruti Ertiga VDI': 22.11285714285714, 'Maruti Ertiga VXI': 16.143333333333334, 'Maruti Ertiga ZDI': 21.475, 'Maruti Ritz LDi': 22.675, 'Maruti Ritz VDi': 21.939999999999998, 'Maruti Swift Dzire LDI': 26.058333333333334, 'Maruti Swift Dzire Tour LDI': 23.399999999999995, 'Maruti Swift Dzire VDI': 24.691190476190474, 'Maruti Swift Dzire VDi': 19.3, 'Maruti Swift Dzire VXI': 19.3625, 'Maruti Swift Dzire VXi': 17.5, 'Maruti Swift VDI': 24.583673469387755, 'Maruti Swift VDI BSIV': 22.8, 'Maruti Swift VXI': 19.527272727272727, 'Maruti Swift VXI BSIV': 20.4, 'Maruti Swift ZDi': 23.43076923076923, 'Maruti Vitara Brezza ZDi': 24.3, 'Maruti Vitara Brezza ZDi Plus Dual Tone': 24.300000000000004, 'Maruti Wagon R LXI': 20.389655172413793, 'Maruti Wagon R LXI BS IV': 19.543999999999997, 'Maruti Wagon R LXI CNG': 26.48888888888889, 'Maruti Wagon R VXI': 20.772, 'Maruti Wagon R VXI BS IV': 19.59, 'Mercedes-Benz E-Class 2015-2017 E250 CDI Avantgarde': 13.0, 'Mercedes-Benz New C-Class 220 CDI AT': 14.840000000000002, 'Mercedes-Benz New C-Class C 220 CDI Avantgarde': 19.27, 'Mercedes-Benz New C-Class C 220d Avantgarde Edition C': 19.27, 'Nissan Micra Diesel XV': 23.08, 'Renault Duster 110PS Diesel RxL': 19.21, 'Renault Duster 110PS Diesel RxZ': 19.0395, 'Renault Duster 85PS Diesel RxL': 20.108823529411765, 'Renault KWID RXT': 25.17, 'Skoda Superb Elegance 1.8 TSI AT': 13.7, 'Toyota Etios G': 17.284615384615385, 'Toyota Etios Liva GD': 23.59, 'Toyota Fortuner 3.0 Diesel': 11.5, 'Toyota Fortuner 4x2 AT': 12.55, 'Toyota Fortuner 4x2 Manual': 13.0, 'Toyota Innova 2.5 G (Diesel) 8 Seater': 12.99, 'Toyota Innova 2.5 G4 Diesel 8-seater': 12.8, 'Toyota Innova 2.5 V Diesel 7-seater': 12.8, 'Toyota Innova 2.5 V Diesel 8-seater': 12.8, 'Toyota Innova 2.5 VX (Diesel) 7 Seater': 12.99, 'Toyota Innova Crysta 2.8 ZX AT': 11.359999999999998, 'Volkswagen Polo 1.2 MPI Highline': 16.366153846153846, 'Volkswagen Polo 1.5 TDI Highline': 20.14, 'Volkswagen Polo Diesel Comfortline 1.2L': 22.07, 'Volkswagen Polo Diesel Highline 1.2L': 22.07, 'Volkswagen Polo Diesel Trendline 1.2L': 22.07, 'Volkswagen Polo GT TSI': 17.20909090909091, 'Volkswagen Polo Petrol Comfortline 1.2L': 16.47, 'Volkswagen Polo Petrol Highline 1.2L': 16.47, 'Volkswagen Vento 1.5 TDI Highline': 20.44, 'Volkswagen Vento Diesel Highline': 20.54, 'Volkswagen Vento Petrol Highline': 15.04}\n"
     ]
    }
   ],
   "source": [
    "category_means = df_cleaned.groupby('Name')['Mileage'].mean().to_dict()\n",
    "\n",
    "print(category_means)"
   ]
  },
  {
   "cell_type": "code",
   "execution_count": 127,
   "id": "b4f3eb63",
   "metadata": {},
   "outputs": [
    {
     "data": {
      "text/html": [
       "<div>\n",
       "<style scoped>\n",
       "    .dataframe tbody tr th:only-of-type {\n",
       "        vertical-align: middle;\n",
       "    }\n",
       "\n",
       "    .dataframe tbody tr th {\n",
       "        vertical-align: top;\n",
       "    }\n",
       "\n",
       "    .dataframe thead th {\n",
       "        text-align: right;\n",
       "    }\n",
       "</style>\n",
       "<table border=\"1\" class=\"dataframe\">\n",
       "  <thead>\n",
       "    <tr style=\"text-align: right;\">\n",
       "      <th></th>\n",
       "      <th>Name</th>\n",
       "      <th>Location</th>\n",
       "      <th>Price</th>\n",
       "      <th>Year</th>\n",
       "      <th>Kilometers_Driven</th>\n",
       "      <th>Fuel_Type</th>\n",
       "      <th>Transmission</th>\n",
       "      <th>Mileage</th>\n",
       "      <th>Engine</th>\n",
       "      <th>Power</th>\n",
       "      <th>Seats</th>\n",
       "    </tr>\n",
       "  </thead>\n",
       "  <tbody>\n",
       "  </tbody>\n",
       "</table>\n",
       "</div>"
      ],
      "text/plain": [
       "Empty DataFrame\n",
       "Columns: [Name, Location, Price, Year, Kilometers_Driven, Fuel_Type, Transmission, Mileage, Engine, Power, Seats]\n",
       "Index: []"
      ]
     },
     "execution_count": 127,
     "metadata": {},
     "output_type": "execute_result"
    }
   ],
   "source": [
    "# mileage_na의 변수에 대한 브랜드 값을 확인하여 그에 맞는 값으로 대체\n",
    "\n",
    "for k in mileage_na['index_v'] :\n",
    "    if mileage_na.loc[k, \"Name\"] in mile_name :\n",
    "        df_cleaned.loc[k, \"Mileage\"] = category_means[mileage_na.loc[k, \"Name\"]]\n",
    "\n",
    "# 평균값으로 채워진지 확인\n",
    "df_cleaned.loc[14:14]"
   ]
  },
  {
   "cell_type": "code",
   "execution_count": 128,
   "id": "a5dc7f87",
   "metadata": {},
   "outputs": [
    {
     "data": {
      "text/plain": [
       "<Axes: ylabel='Mileage'>"
      ]
     },
     "execution_count": 128,
     "metadata": {},
     "output_type": "execute_result"
    },
    {
     "data": {
      "image/png": "[encoded data removed]",
      "text/plain": [
       "<Figure size 1000x600 with 1 Axes>"
      ]
     },
     "metadata": {},
     "output_type": "display_data"
    }
   ],
   "source": [
    "# 마일리지 이상치 확인\n",
    "\n",
    "plt.figure(figsize=(10, 6))\n",
    "sns.boxplot(df_cleaned, y='Mileage')"
   ]
  },
  {
   "cell_type": "code",
   "execution_count": 129,
   "id": "c0b472de",
   "metadata": {},
   "outputs": [
    {
     "data": {
      "text/plain": [
       "Name                 0\n",
       "Location             0\n",
       "Price                0\n",
       "Year                 0\n",
       "Kilometers_Driven    0\n",
       "Fuel_Type            0\n",
       "Transmission         0\n",
       "Mileage              0\n",
       "Engine               0\n",
       "Power                0\n",
       "Seats                0\n",
       "dtype: int64"
      ]
     },
     "execution_count": 129,
     "metadata": {},
     "output_type": "execute_result"
    }
   ],
   "source": [
    "df_cleaned.isnull().sum()"
   ]
  },
  {
   "cell_type": "markdown",
   "id": "182f7182",
   "metadata": {},
   "source": [
    "### Engine 변수"
   ]
  },
  {
   "cell_type": "code",
   "execution_count": 130,
   "id": "73665622",
   "metadata": {},
   "outputs": [],
   "source": [
    "df_cleaned['Engine'] = df_cleaned['Engine'].astype('float64')"
   ]
  },
  {
   "cell_type": "code",
   "execution_count": 131,
   "id": "5c6327ae",
   "metadata": {},
   "outputs": [
    {
     "data": {
      "text/html": [
       "<div>\n",
       "<style scoped>\n",
       "    .dataframe tbody tr th:only-of-type {\n",
       "        vertical-align: middle;\n",
       "    }\n",
       "\n",
       "    .dataframe tbody tr th {\n",
       "        vertical-align: top;\n",
       "    }\n",
       "\n",
       "    .dataframe thead th {\n",
       "        text-align: right;\n",
       "    }\n",
       "</style>\n",
       "<table border=\"1\" class=\"dataframe\">\n",
       "  <thead>\n",
       "    <tr style=\"text-align: right;\">\n",
       "      <th></th>\n",
       "      <th>Name</th>\n",
       "      <th>Location</th>\n",
       "      <th>Price</th>\n",
       "      <th>Year</th>\n",
       "      <th>Kilometers_Driven</th>\n",
       "      <th>Fuel_Type</th>\n",
       "      <th>Transmission</th>\n",
       "      <th>Mileage</th>\n",
       "      <th>Engine</th>\n",
       "      <th>Power</th>\n",
       "      <th>Seats</th>\n",
       "    </tr>\n",
       "  </thead>\n",
       "  <tbody>\n",
       "    <tr>\n",
       "      <th>0</th>\n",
       "      <td>Maruti Wagon R LXI CNG</td>\n",
       "      <td>9</td>\n",
       "      <td>2682.68</td>\n",
       "      <td>2010</td>\n",
       "      <td>72000</td>\n",
       "      <td>CNG</td>\n",
       "      <td>Manual</td>\n",
       "      <td>26.60</td>\n",
       "      <td>998.0</td>\n",
       "      <td>58.16</td>\n",
       "      <td>5.0</td>\n",
       "    </tr>\n",
       "    <tr>\n",
       "      <th>1</th>\n",
       "      <td>Hyundai Creta 1.6 CRDi SX Option</td>\n",
       "      <td>10</td>\n",
       "      <td>19162.00</td>\n",
       "      <td>2015</td>\n",
       "      <td>41000</td>\n",
       "      <td>Diesel</td>\n",
       "      <td>Manual</td>\n",
       "      <td>19.67</td>\n",
       "      <td>1582.0</td>\n",
       "      <td>126.20</td>\n",
       "      <td>5.0</td>\n",
       "    </tr>\n",
       "    <tr>\n",
       "      <th>3</th>\n",
       "      <td>Maruti Ertiga VDI</td>\n",
       "      <td>2</td>\n",
       "      <td>9197.76</td>\n",
       "      <td>2012</td>\n",
       "      <td>87000</td>\n",
       "      <td>Diesel</td>\n",
       "      <td>Manual</td>\n",
       "      <td>20.77</td>\n",
       "      <td>1248.0</td>\n",
       "      <td>88.76</td>\n",
       "      <td>7.0</td>\n",
       "    </tr>\n",
       "    <tr>\n",
       "      <th>6</th>\n",
       "      <td>Nissan Micra Diesel XV</td>\n",
       "      <td>6</td>\n",
       "      <td>5365.36</td>\n",
       "      <td>2013</td>\n",
       "      <td>86999</td>\n",
       "      <td>Diesel</td>\n",
       "      <td>Manual</td>\n",
       "      <td>23.08</td>\n",
       "      <td>1461.0</td>\n",
       "      <td>63.10</td>\n",
       "      <td>5.0</td>\n",
       "    </tr>\n",
       "    <tr>\n",
       "      <th>12</th>\n",
       "      <td>Maruti Swift VDI BSIV</td>\n",
       "      <td>6</td>\n",
       "      <td>8584.58</td>\n",
       "      <td>2015</td>\n",
       "      <td>64424</td>\n",
       "      <td>Diesel</td>\n",
       "      <td>Manual</td>\n",
       "      <td>25.20</td>\n",
       "      <td>1248.0</td>\n",
       "      <td>74.00</td>\n",
       "      <td>5.0</td>\n",
       "    </tr>\n",
       "  </tbody>\n",
       "</table>\n",
       "</div>"
      ],
      "text/plain": [
       "                                Name  Location     Price  Year  \\\n",
       "0             Maruti Wagon R LXI CNG         9   2682.68  2010   \n",
       "1   Hyundai Creta 1.6 CRDi SX Option        10  19162.00  2015   \n",
       "3                  Maruti Ertiga VDI         2   9197.76  2012   \n",
       "6             Nissan Micra Diesel XV         6   5365.36  2013   \n",
       "12             Maruti Swift VDI BSIV         6   8584.58  2015   \n",
       "\n",
       "    Kilometers_Driven Fuel_Type Transmission  Mileage  Engine   Power  Seats  \n",
       "0               72000       CNG       Manual    26.60   998.0   58.16    5.0  \n",
       "1               41000    Diesel       Manual    19.67  1582.0  126.20    5.0  \n",
       "3               87000    Diesel       Manual    20.77  1248.0   88.76    7.0  \n",
       "6               86999    Diesel       Manual    23.08  1461.0   63.10    5.0  \n",
       "12              64424    Diesel       Manual    25.20  1248.0   74.00    5.0  "
      ]
     },
     "execution_count": 131,
     "metadata": {},
     "output_type": "execute_result"
    }
   ],
   "source": [
    "df_cleaned.head()"
   ]
  },
  {
   "cell_type": "code",
   "execution_count": 132,
   "id": "0cf63714",
   "metadata": {},
   "outputs": [
    {
     "name": "stdout",
     "output_type": "stream",
     "text": [
      "<class 'pandas.core.frame.DataFrame'>\n",
      "Int64Index: 2468 entries, 0 to 7251\n",
      "Data columns (total 11 columns):\n",
      " #   Column             Non-Null Count  Dtype  \n",
      "---  ------             --------------  -----  \n",
      " 0   Name               2468 non-null   object \n",
      " 1   Location           2468 non-null   int64  \n",
      " 2   Price              2468 non-null   float64\n",
      " 3   Year               2468 non-null   int64  \n",
      " 4   Kilometers_Driven  2468 non-null   int64  \n",
      " 5   Fuel_Type          2468 non-null   object \n",
      " 6   Transmission       2468 non-null   object \n",
      " 7   Mileage            2468 non-null   float64\n",
      " 8   Engine             2468 non-null   float64\n",
      " 9   Power              2468 non-null   float64\n",
      " 10  Seats              2468 non-null   float64\n",
      "dtypes: float64(5), int64(3), object(3)\n",
      "memory usage: 295.9+ KB\n",
      "None\n"
     ]
    }
   ],
   "source": [
    "print(df_cleaned.info())"
   ]
  },
  {
   "cell_type": "code",
   "execution_count": 133,
   "id": "6a0a4534",
   "metadata": {},
   "outputs": [
    {
     "data": {
      "text/plain": [
       "{'whiskers': [<matplotlib.lines.Line2D at 0x7ff866c3fdf0>,\n",
       "  <matplotlib.lines.Line2D at 0x7ff85f18d930>],\n",
       " 'caps': [<matplotlib.lines.Line2D at 0x7ff85f18c0d0>,\n",
       "  <matplotlib.lines.Line2D at 0x7ff85f18d810>],\n",
       " 'boxes': [<matplotlib.lines.Line2D at 0x7ff85f18d900>],\n",
       " 'medians': [<matplotlib.lines.Line2D at 0x7ff85f18c2b0>],\n",
       " 'fliers': [<matplotlib.lines.Line2D at 0x7ff85f18d240>],\n",
       " 'means': []}"
      ]
     },
     "execution_count": 133,
     "metadata": {},
     "output_type": "execute_result"
    },
    {
     "data": {
      "image/png": "[encoded data removed]",
      "text/plain": [
       "<Figure size 1000x600 with 1 Axes>"
      ]
     },
     "metadata": {},
     "output_type": "display_data"
    }
   ],
   "source": [
    "plt.figure(figsize=(10, 6))\n",
    "plt.boxplot(df_cleaned['Engine'].dropna(), vert=False)"
   ]
  },
  {
   "cell_type": "code",
   "execution_count": 134,
   "id": "4ce4b751",
   "metadata": {},
   "outputs": [],
   "source": [
    "# 사분위수 계산\n",
    "Q1 = np.percentile(df_cleaned['Engine'].dropna(), 25)\n",
    "Q3 = np.percentile(df_cleaned['Engine'].dropna(), 75)\n",
    "IQR = Q3 - Q1\n",
    "\n",
    "# 수염의 경계값 계산\n",
    "lower_bound = Q1 - 1.5 * IQR\n",
    "upper_bound = Q3 + 1.5 * IQR\n",
    "\n",
    "#수염보다 큰 값 삭제\n",
    "df_cleaned = df_cleaned[~(df_cleaned['Engine'] > upper_bound)]"
   ]
  },
  {
   "cell_type": "code",
   "execution_count": 135,
   "id": "559c5372",
   "metadata": {},
   "outputs": [
    {
     "data": {
      "text/plain": [
       "{'whiskers': [<matplotlib.lines.Line2D at 0x7ff85ed264d0>,\n",
       "  <matplotlib.lines.Line2D at 0x7ff85ed26860>],\n",
       " 'caps': [<matplotlib.lines.Line2D at 0x7ff85ed26ad0>,\n",
       "  <matplotlib.lines.Line2D at 0x7ff85ed27370>],\n",
       " 'boxes': [<matplotlib.lines.Line2D at 0x7ff85ed26320>],\n",
       " 'medians': [<matplotlib.lines.Line2D at 0x7ff85ed27310>],\n",
       " 'fliers': [<matplotlib.lines.Line2D at 0x7ff85ed27490>],\n",
       " 'means': []}"
      ]
     },
     "execution_count": 135,
     "metadata": {},
     "output_type": "execute_result"
    },
    {
     "data": {
      "image/png": "[encoded data removed]",
      "text/plain": [
       "<Figure size 1000x600 with 1 Axes>"
      ]
     },
     "metadata": {},
     "output_type": "display_data"
    }
   ],
   "source": [
    "plt.figure(figsize=(10, 6))\n",
    "plt.boxplot(df_cleaned['Engine'].dropna(), vert=False)"
   ]
  },
  {
   "cell_type": "code",
   "execution_count": 136,
   "id": "97eb4406",
   "metadata": {},
   "outputs": [
    {
     "data": {
      "text/plain": [
       "128"
      ]
     },
     "execution_count": 136,
     "metadata": {},
     "output_type": "execute_result"
    }
   ],
   "source": [
    "# Name 열의 고유한 값들의 목록을 추출\n",
    "unique_names = df_cleaned['Name'].unique()\n",
    "\n",
    "# 고유한 Name 값들의 개수와 목록을 출력\n",
    "num_unique_names = len(unique_names)\n",
    "\n",
    "num_unique_names"
   ]
  },
  {
   "cell_type": "code",
   "execution_count": 137,
   "id": "4b6dc58b",
   "metadata": {},
   "outputs": [
    {
     "data": {
      "text/plain": [
       "Name                 0\n",
       "Location             0\n",
       "Price                0\n",
       "Year                 0\n",
       "Kilometers_Driven    0\n",
       "Fuel_Type            0\n",
       "Transmission         0\n",
       "Mileage              0\n",
       "Engine               0\n",
       "Power                0\n",
       "Seats                0\n",
       "dtype: int64"
      ]
     },
     "execution_count": 137,
     "metadata": {},
     "output_type": "execute_result"
    }
   ],
   "source": [
    "# 결측치(True) 현황 요약 :sum 함수\n",
    "\n",
    "df_cleaned.isnull().sum()"
   ]
  },
  {
   "cell_type": "code",
   "execution_count": 138,
   "id": "f7a4cc0a",
   "metadata": {},
   "outputs": [],
   "source": [
    "# 각 열별로 결측치가 있는 행을 출력\n",
    "\n",
    "for column in df_cleaned.columns:\n",
    "    missing_rows = df_cleaned[df_cleaned[column].isnull()]\n",
    "    if not missing_rows.empty:\n",
    "        print(f\"Column '{column}' has missing values in the following rows:\")\n",
    "        print(missing_rows)\n",
    "        print(\"\\n\")"
   ]
  },
  {
   "cell_type": "code",
   "execution_count": 139,
   "id": "7e32d015",
   "metadata": {},
   "outputs": [
    {
     "data": {
      "text/html": [
       "<div>\n",
       "<style scoped>\n",
       "    .dataframe tbody tr th:only-of-type {\n",
       "        vertical-align: middle;\n",
       "    }\n",
       "\n",
       "    .dataframe tbody tr th {\n",
       "        vertical-align: top;\n",
       "    }\n",
       "\n",
       "    .dataframe thead th {\n",
       "        text-align: right;\n",
       "    }\n",
       "</style>\n",
       "<table border=\"1\" class=\"dataframe\">\n",
       "  <thead>\n",
       "    <tr style=\"text-align: right;\">\n",
       "      <th></th>\n",
       "      <th>Name</th>\n",
       "      <th>Location</th>\n",
       "      <th>Price</th>\n",
       "      <th>Year</th>\n",
       "      <th>Kilometers_Driven</th>\n",
       "      <th>Fuel_Type</th>\n",
       "      <th>Transmission</th>\n",
       "      <th>Mileage</th>\n",
       "      <th>Engine</th>\n",
       "      <th>Power</th>\n",
       "      <th>Seats</th>\n",
       "    </tr>\n",
       "  </thead>\n",
       "  <tbody>\n",
       "    <tr>\n",
       "      <th>0</th>\n",
       "      <td>Maruti Wagon R LXI CNG</td>\n",
       "      <td>9</td>\n",
       "      <td>2682.68</td>\n",
       "      <td>2010</td>\n",
       "      <td>72000</td>\n",
       "      <td>CNG</td>\n",
       "      <td>Manual</td>\n",
       "      <td>26.60</td>\n",
       "      <td>998.0</td>\n",
       "      <td>58.16</td>\n",
       "      <td>5.0</td>\n",
       "    </tr>\n",
       "    <tr>\n",
       "      <th>1</th>\n",
       "      <td>Hyundai Creta 1.6 CRDi SX Option</td>\n",
       "      <td>10</td>\n",
       "      <td>19162.00</td>\n",
       "      <td>2015</td>\n",
       "      <td>41000</td>\n",
       "      <td>Diesel</td>\n",
       "      <td>Manual</td>\n",
       "      <td>19.67</td>\n",
       "      <td>1582.0</td>\n",
       "      <td>126.20</td>\n",
       "      <td>5.0</td>\n",
       "    </tr>\n",
       "    <tr>\n",
       "      <th>3</th>\n",
       "      <td>Maruti Ertiga VDI</td>\n",
       "      <td>2</td>\n",
       "      <td>9197.76</td>\n",
       "      <td>2012</td>\n",
       "      <td>87000</td>\n",
       "      <td>Diesel</td>\n",
       "      <td>Manual</td>\n",
       "      <td>20.77</td>\n",
       "      <td>1248.0</td>\n",
       "      <td>88.76</td>\n",
       "      <td>7.0</td>\n",
       "    </tr>\n",
       "    <tr>\n",
       "      <th>6</th>\n",
       "      <td>Nissan Micra Diesel XV</td>\n",
       "      <td>6</td>\n",
       "      <td>5365.36</td>\n",
       "      <td>2013</td>\n",
       "      <td>86999</td>\n",
       "      <td>Diesel</td>\n",
       "      <td>Manual</td>\n",
       "      <td>23.08</td>\n",
       "      <td>1461.0</td>\n",
       "      <td>63.10</td>\n",
       "      <td>5.0</td>\n",
       "    </tr>\n",
       "    <tr>\n",
       "      <th>12</th>\n",
       "      <td>Maruti Swift VDI BSIV</td>\n",
       "      <td>6</td>\n",
       "      <td>8584.58</td>\n",
       "      <td>2015</td>\n",
       "      <td>64424</td>\n",
       "      <td>Diesel</td>\n",
       "      <td>Manual</td>\n",
       "      <td>25.20</td>\n",
       "      <td>1248.0</td>\n",
       "      <td>74.00</td>\n",
       "      <td>5.0</td>\n",
       "    </tr>\n",
       "    <tr>\n",
       "      <th>16</th>\n",
       "      <td>Honda Amaze S i-Dtech</td>\n",
       "      <td>7</td>\n",
       "      <td>8277.98</td>\n",
       "      <td>2016</td>\n",
       "      <td>58950</td>\n",
       "      <td>Diesel</td>\n",
       "      <td>Manual</td>\n",
       "      <td>25.80</td>\n",
       "      <td>1498.0</td>\n",
       "      <td>98.60</td>\n",
       "      <td>5.0</td>\n",
       "    </tr>\n",
       "    <tr>\n",
       "      <th>20</th>\n",
       "      <td>BMW 3 Series 320d</td>\n",
       "      <td>7</td>\n",
       "      <td>28436.41</td>\n",
       "      <td>2014</td>\n",
       "      <td>32982</td>\n",
       "      <td>Diesel</td>\n",
       "      <td>Automatic</td>\n",
       "      <td>22.69</td>\n",
       "      <td>1995.0</td>\n",
       "      <td>190.00</td>\n",
       "      <td>5.0</td>\n",
       "    </tr>\n",
       "    <tr>\n",
       "      <th>23</th>\n",
       "      <td>Hyundai i20 1.2 Magna</td>\n",
       "      <td>8</td>\n",
       "      <td>2866.64</td>\n",
       "      <td>2010</td>\n",
       "      <td>45807</td>\n",
       "      <td>Petrol</td>\n",
       "      <td>Manual</td>\n",
       "      <td>18.50</td>\n",
       "      <td>1197.0</td>\n",
       "      <td>80.00</td>\n",
       "      <td>5.0</td>\n",
       "    </tr>\n",
       "    <tr>\n",
       "      <th>26</th>\n",
       "      <td>Nissan Micra Diesel XV</td>\n",
       "      <td>5</td>\n",
       "      <td>6515.08</td>\n",
       "      <td>2012</td>\n",
       "      <td>54000</td>\n",
       "      <td>Diesel</td>\n",
       "      <td>Manual</td>\n",
       "      <td>23.08</td>\n",
       "      <td>1461.0</td>\n",
       "      <td>63.10</td>\n",
       "      <td>5.0</td>\n",
       "    </tr>\n",
       "    <tr>\n",
       "      <th>27</th>\n",
       "      <td>Maruti Alto K10 2010-2014 VXI</td>\n",
       "      <td>5</td>\n",
       "      <td>4215.64</td>\n",
       "      <td>2013</td>\n",
       "      <td>54000</td>\n",
       "      <td>Petrol</td>\n",
       "      <td>Manual</td>\n",
       "      <td>20.92</td>\n",
       "      <td>998.0</td>\n",
       "      <td>67.10</td>\n",
       "      <td>5.0</td>\n",
       "    </tr>\n",
       "  </tbody>\n",
       "</table>\n",
       "</div>"
      ],
      "text/plain": [
       "                                Name  Location     Price  Year  \\\n",
       "0             Maruti Wagon R LXI CNG         9   2682.68  2010   \n",
       "1   Hyundai Creta 1.6 CRDi SX Option        10  19162.00  2015   \n",
       "3                  Maruti Ertiga VDI         2   9197.76  2012   \n",
       "6             Nissan Micra Diesel XV         6   5365.36  2013   \n",
       "12             Maruti Swift VDI BSIV         6   8584.58  2015   \n",
       "16             Honda Amaze S i-Dtech         7   8277.98  2016   \n",
       "20                 BMW 3 Series 320d         7  28436.41  2014   \n",
       "23             Hyundai i20 1.2 Magna         8   2866.64  2010   \n",
       "26            Nissan Micra Diesel XV         5   6515.08  2012   \n",
       "27     Maruti Alto K10 2010-2014 VXI         5   4215.64  2013   \n",
       "\n",
       "    Kilometers_Driven Fuel_Type Transmission  Mileage  Engine   Power  Seats  \n",
       "0               72000       CNG       Manual    26.60   998.0   58.16    5.0  \n",
       "1               41000    Diesel       Manual    19.67  1582.0  126.20    5.0  \n",
       "3               87000    Diesel       Manual    20.77  1248.0   88.76    7.0  \n",
       "6               86999    Diesel       Manual    23.08  1461.0   63.10    5.0  \n",
       "12              64424    Diesel       Manual    25.20  1248.0   74.00    5.0  \n",
       "16              58950    Diesel       Manual    25.80  1498.0   98.60    5.0  \n",
       "20              32982    Diesel    Automatic    22.69  1995.0  190.00    5.0  \n",
       "23              45807    Petrol       Manual    18.50  1197.0   80.00    5.0  \n",
       "26              54000    Diesel       Manual    23.08  1461.0   63.10    5.0  \n",
       "27              54000    Petrol       Manual    20.92   998.0   67.10    5.0  "
      ]
     },
     "execution_count": 139,
     "metadata": {},
     "output_type": "execute_result"
    }
   ],
   "source": [
    "# df_cleaned에서 'Power' 열의 'null' 값을 NaN으로 변환\n",
    "df_cleaned['Power'] = df_cleaned['Power'].replace('null', np.nan).astype(float)\n",
    "\n",
    "\n",
    "df_cleaned.head(10)"
   ]
  },
  {
   "cell_type": "code",
   "execution_count": 140,
   "id": "a406369e",
   "metadata": {},
   "outputs": [
    {
     "data": {
      "text/plain": [
       "Name                 0\n",
       "Location             0\n",
       "Price                0\n",
       "Year                 0\n",
       "Kilometers_Driven    0\n",
       "Fuel_Type            0\n",
       "Transmission         0\n",
       "Mileage              0\n",
       "Engine               0\n",
       "Power                0\n",
       "Seats                0\n",
       "dtype: int64"
      ]
     },
     "execution_count": 140,
     "metadata": {},
     "output_type": "execute_result"
    }
   ],
   "source": [
    "# 결측치(True) 현황 요약 :sum 함수\n",
    "df_cleaned.isnull().sum()"
   ]
  },
  {
   "cell_type": "code",
   "execution_count": null,
   "id": "ae1d19aa",
   "metadata": {},
   "outputs": [],
   "source": []
  },
  {
   "cell_type": "code",
   "execution_count": null,
   "id": "fbfba12b",
   "metadata": {},
   "outputs": [],
   "source": []
  },
  {
   "cell_type": "code",
   "execution_count": null,
   "id": "1d8fce0f",
   "metadata": {},
   "outputs": [],
   "source": []
  },
  {
   "cell_type": "code",
   "execution_count": null,
   "id": "d949195a",
   "metadata": {},
   "outputs": [],
   "source": []
  }
 ],
 "metadata": {
  "kernelspec": {
   "display_name": "Python [conda env:base] *",
   "language": "python",
   "name": "conda-base-py"
  },
  "language_info": {
   "codemirror_mode": {
    "name": "ipython",
    "version": 3
   },
   "file_extension": ".py",
   "mimetype": "text/x-python",
   "name": "python",
   "nbconvert_exporter": "python",
   "pygments_lexer": "ipython3",
   "version": "3.10.9"
  }
 },
 "nbformat": 4,
 "nbformat_minor": 5
}
